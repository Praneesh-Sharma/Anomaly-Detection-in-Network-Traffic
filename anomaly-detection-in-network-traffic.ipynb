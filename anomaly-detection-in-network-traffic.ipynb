{
 "cells": [
  {
   "cell_type": "markdown",
   "id": "f7ab0857",
   "metadata": {
    "papermill": {
     "duration": 0.011918,
     "end_time": "2024-06-04T15:34:46.614821",
     "exception": false,
     "start_time": "2024-06-04T15:34:46.602903",
     "status": "completed"
    },
    "tags": []
   },
   "source": [
    "### Importing Necessary Libraries"
   ]
  },
  {
   "cell_type": "code",
   "execution_count": 1,
   "id": "5f7151c0",
   "metadata": {
    "execution": {
     "iopub.execute_input": "2024-06-04T15:34:46.639781Z",
     "iopub.status.busy": "2024-06-04T15:34:46.638917Z",
     "iopub.status.idle": "2024-06-04T15:34:48.644768Z",
     "shell.execute_reply": "2024-06-04T15:34:48.643734Z"
    },
    "papermill": {
     "duration": 2.021616,
     "end_time": "2024-06-04T15:34:48.647450",
     "exception": false,
     "start_time": "2024-06-04T15:34:46.625834",
     "status": "completed"
    },
    "tags": []
   },
   "outputs": [],
   "source": [
    "import os\n",
    "import pandas as pd\n",
    "import numpy as np\n",
    "import matplotlib.pyplot as plt\n",
    "import seaborn as sns\n",
    "import time"
   ]
  },
  {
   "cell_type": "markdown",
   "id": "fa31d71a",
   "metadata": {
    "papermill": {
     "duration": 0.011678,
     "end_time": "2024-06-04T15:34:48.671166",
     "exception": false,
     "start_time": "2024-06-04T15:34:48.659488",
     "status": "completed"
    },
    "tags": []
   },
   "source": [
    "## Reading the Data"
   ]
  },
  {
   "cell_type": "code",
   "execution_count": 2,
   "id": "897e4a42",
   "metadata": {
    "execution": {
     "iopub.execute_input": "2024-06-04T15:34:48.697594Z",
     "iopub.status.busy": "2024-06-04T15:34:48.696586Z",
     "iopub.status.idle": "2024-06-04T15:34:48.710503Z",
     "shell.execute_reply": "2024-06-04T15:34:48.709504Z"
    },
    "papermill": {
     "duration": 0.029572,
     "end_time": "2024-06-04T15:34:48.712502",
     "exception": false,
     "start_time": "2024-06-04T15:34:48.682930",
     "status": "completed"
    },
    "tags": []
   },
   "outputs": [
    {
     "name": "stdout",
     "output_type": "stream",
     "text": [
      "['kddcup.data.gz', 'kddcup.data', 'kddcup.testdata.unlabeled', 'training_attack_types', 'kddcup.data.corrected', 'kddcup.newtestdata_10_percent_unlabeled.gz', 'corrected', 'kddcup.testdata.unlabeled.gz', 'kddcup.testdata.unlabeled_10_percent', 'corrected.gz', 'kddcup.newtestdata_10_percent_unlabeled', 'kddcup.data_10_percent.gz', 'kddcup.names', 'kddcup.data_10_percent_corrected', 'typo-correction.txt', 'kddcup.data_10_percent', 'kddcup.testdata.unlabeled_10_percent.gz']\n"
     ]
    }
   ],
   "source": [
    "#displaying all the files present in the data directory\n",
    "print(os.listdir('../input/kdd-cup-1999-data'))"
   ]
  },
  {
   "cell_type": "code",
   "execution_count": 3,
   "id": "f65e6368",
   "metadata": {
    "execution": {
     "iopub.execute_input": "2024-06-04T15:34:48.735779Z",
     "iopub.status.busy": "2024-06-04T15:34:48.735458Z",
     "iopub.status.idle": "2024-06-04T15:34:51.183279Z",
     "shell.execute_reply": "2024-06-04T15:34:51.182274Z"
    },
    "papermill": {
     "duration": 2.462052,
     "end_time": "2024-06-04T15:34:51.185646",
     "exception": false,
     "start_time": "2024-06-04T15:34:48.723594",
     "status": "completed"
    },
    "tags": []
   },
   "outputs": [
    {
     "data": {
      "text/html": [
       "<div>\n",
       "<style scoped>\n",
       "    .dataframe tbody tr th:only-of-type {\n",
       "        vertical-align: middle;\n",
       "    }\n",
       "\n",
       "    .dataframe tbody tr th {\n",
       "        vertical-align: top;\n",
       "    }\n",
       "\n",
       "    .dataframe thead th {\n",
       "        text-align: right;\n",
       "    }\n",
       "</style>\n",
       "<table border=\"1\" class=\"dataframe\">\n",
       "  <thead>\n",
       "    <tr style=\"text-align: right;\">\n",
       "      <th></th>\n",
       "      <th>0</th>\n",
       "      <th>tcp</th>\n",
       "      <th>http</th>\n",
       "      <th>SF</th>\n",
       "      <th>181</th>\n",
       "      <th>5450</th>\n",
       "      <th>0.1</th>\n",
       "      <th>0.2</th>\n",
       "      <th>0.3</th>\n",
       "      <th>0.4</th>\n",
       "      <th>...</th>\n",
       "      <th>9.1</th>\n",
       "      <th>1.00.1</th>\n",
       "      <th>0.00.6</th>\n",
       "      <th>0.11</th>\n",
       "      <th>0.00.7</th>\n",
       "      <th>0.00.8</th>\n",
       "      <th>0.00.9</th>\n",
       "      <th>0.00.10</th>\n",
       "      <th>0.00.11</th>\n",
       "      <th>normal.</th>\n",
       "    </tr>\n",
       "  </thead>\n",
       "  <tbody>\n",
       "    <tr>\n",
       "      <th>0</th>\n",
       "      <td>0</td>\n",
       "      <td>tcp</td>\n",
       "      <td>http</td>\n",
       "      <td>SF</td>\n",
       "      <td>239</td>\n",
       "      <td>486</td>\n",
       "      <td>0</td>\n",
       "      <td>0</td>\n",
       "      <td>0</td>\n",
       "      <td>0</td>\n",
       "      <td>...</td>\n",
       "      <td>19</td>\n",
       "      <td>1.0</td>\n",
       "      <td>0.0</td>\n",
       "      <td>0.05</td>\n",
       "      <td>0.0</td>\n",
       "      <td>0.0</td>\n",
       "      <td>0.0</td>\n",
       "      <td>0.0</td>\n",
       "      <td>0.0</td>\n",
       "      <td>normal.</td>\n",
       "    </tr>\n",
       "    <tr>\n",
       "      <th>1</th>\n",
       "      <td>0</td>\n",
       "      <td>tcp</td>\n",
       "      <td>http</td>\n",
       "      <td>SF</td>\n",
       "      <td>235</td>\n",
       "      <td>1337</td>\n",
       "      <td>0</td>\n",
       "      <td>0</td>\n",
       "      <td>0</td>\n",
       "      <td>0</td>\n",
       "      <td>...</td>\n",
       "      <td>29</td>\n",
       "      <td>1.0</td>\n",
       "      <td>0.0</td>\n",
       "      <td>0.03</td>\n",
       "      <td>0.0</td>\n",
       "      <td>0.0</td>\n",
       "      <td>0.0</td>\n",
       "      <td>0.0</td>\n",
       "      <td>0.0</td>\n",
       "      <td>normal.</td>\n",
       "    </tr>\n",
       "    <tr>\n",
       "      <th>2</th>\n",
       "      <td>0</td>\n",
       "      <td>tcp</td>\n",
       "      <td>http</td>\n",
       "      <td>SF</td>\n",
       "      <td>219</td>\n",
       "      <td>1337</td>\n",
       "      <td>0</td>\n",
       "      <td>0</td>\n",
       "      <td>0</td>\n",
       "      <td>0</td>\n",
       "      <td>...</td>\n",
       "      <td>39</td>\n",
       "      <td>1.0</td>\n",
       "      <td>0.0</td>\n",
       "      <td>0.03</td>\n",
       "      <td>0.0</td>\n",
       "      <td>0.0</td>\n",
       "      <td>0.0</td>\n",
       "      <td>0.0</td>\n",
       "      <td>0.0</td>\n",
       "      <td>normal.</td>\n",
       "    </tr>\n",
       "    <tr>\n",
       "      <th>3</th>\n",
       "      <td>0</td>\n",
       "      <td>tcp</td>\n",
       "      <td>http</td>\n",
       "      <td>SF</td>\n",
       "      <td>217</td>\n",
       "      <td>2032</td>\n",
       "      <td>0</td>\n",
       "      <td>0</td>\n",
       "      <td>0</td>\n",
       "      <td>0</td>\n",
       "      <td>...</td>\n",
       "      <td>49</td>\n",
       "      <td>1.0</td>\n",
       "      <td>0.0</td>\n",
       "      <td>0.02</td>\n",
       "      <td>0.0</td>\n",
       "      <td>0.0</td>\n",
       "      <td>0.0</td>\n",
       "      <td>0.0</td>\n",
       "      <td>0.0</td>\n",
       "      <td>normal.</td>\n",
       "    </tr>\n",
       "    <tr>\n",
       "      <th>4</th>\n",
       "      <td>0</td>\n",
       "      <td>tcp</td>\n",
       "      <td>http</td>\n",
       "      <td>SF</td>\n",
       "      <td>217</td>\n",
       "      <td>2032</td>\n",
       "      <td>0</td>\n",
       "      <td>0</td>\n",
       "      <td>0</td>\n",
       "      <td>0</td>\n",
       "      <td>...</td>\n",
       "      <td>59</td>\n",
       "      <td>1.0</td>\n",
       "      <td>0.0</td>\n",
       "      <td>0.02</td>\n",
       "      <td>0.0</td>\n",
       "      <td>0.0</td>\n",
       "      <td>0.0</td>\n",
       "      <td>0.0</td>\n",
       "      <td>0.0</td>\n",
       "      <td>normal.</td>\n",
       "    </tr>\n",
       "  </tbody>\n",
       "</table>\n",
       "<p>5 rows × 42 columns</p>\n",
       "</div>"
      ],
      "text/plain": [
       "   0  tcp  http  SF  181  5450  0.1  0.2  0.3  0.4  ...  9.1  1.00.1  0.00.6  \\\n",
       "0  0  tcp  http  SF  239   486    0    0    0    0  ...   19     1.0     0.0   \n",
       "1  0  tcp  http  SF  235  1337    0    0    0    0  ...   29     1.0     0.0   \n",
       "2  0  tcp  http  SF  219  1337    0    0    0    0  ...   39     1.0     0.0   \n",
       "3  0  tcp  http  SF  217  2032    0    0    0    0  ...   49     1.0     0.0   \n",
       "4  0  tcp  http  SF  217  2032    0    0    0    0  ...   59     1.0     0.0   \n",
       "\n",
       "   0.11  0.00.7  0.00.8  0.00.9  0.00.10  0.00.11  normal.  \n",
       "0  0.05     0.0     0.0     0.0      0.0      0.0  normal.  \n",
       "1  0.03     0.0     0.0     0.0      0.0      0.0  normal.  \n",
       "2  0.03     0.0     0.0     0.0      0.0      0.0  normal.  \n",
       "3  0.02     0.0     0.0     0.0      0.0      0.0  normal.  \n",
       "4  0.02     0.0     0.0     0.0      0.0      0.0  normal.  \n",
       "\n",
       "[5 rows x 42 columns]"
      ]
     },
     "execution_count": 3,
     "metadata": {},
     "output_type": "execute_result"
    }
   ],
   "source": [
    "path = \"../input/kdd-cup-1999-data/kddcup.data_10_percent.gz\"\n",
    "df = pd.read_csv(path)\n",
    "df.head()"
   ]
  },
  {
   "cell_type": "markdown",
   "id": "71535a1f",
   "metadata": {
    "papermill": {
     "duration": 0.011773,
     "end_time": "2024-06-04T15:34:51.209820",
     "exception": false,
     "start_time": "2024-06-04T15:34:51.198047",
     "status": "completed"
    },
    "tags": []
   },
   "source": [
    "we need to use the column names from the kddcup.names file, and make a target column using the training_attack_types file"
   ]
  },
  {
   "cell_type": "code",
   "execution_count": 4,
   "id": "1324d714",
   "metadata": {
    "execution": {
     "iopub.execute_input": "2024-06-04T15:34:51.235927Z",
     "iopub.status.busy": "2024-06-04T15:34:51.235077Z",
     "iopub.status.idle": "2024-06-04T15:34:51.245328Z",
     "shell.execute_reply": "2024-06-04T15:34:51.244071Z"
    },
    "papermill": {
     "duration": 0.025642,
     "end_time": "2024-06-04T15:34:51.247630",
     "exception": false,
     "start_time": "2024-06-04T15:34:51.221988",
     "status": "completed"
    },
    "tags": []
   },
   "outputs": [
    {
     "name": "stdout",
     "output_type": "stream",
     "text": [
      "back,buffer_overflow,ftp_write,guess_passwd,imap,ipsweep,land,loadmodule,multihop,neptune,nmap,normal,perl,phf,pod,portsweep,rootkit,satan,smurf,spy,teardrop,warezclient,warezmaster.\n",
      "duration: continuous.\n",
      "protocol_type: symbolic.\n",
      "service: symbolic.\n",
      "flag: symbolic.\n",
      "src_bytes: continuous.\n",
      "dst_bytes: continuous.\n",
      "land: symbolic.\n",
      "wrong_fragment: continuous.\n",
      "urgent: continuous.\n",
      "hot: continuous.\n",
      "num_failed_logins: continuous.\n",
      "logged_in: symbolic.\n",
      "num_compromised: continuous.\n",
      "root_shell: continuous.\n",
      "su_attempted: continuous.\n",
      "num_root: continuous.\n",
      "num_file_creations: continuous.\n",
      "num_shells: continuous.\n",
      "num_access_files: continuous.\n",
      "num_outbound_cmds: continuous.\n",
      "is_host_login: symbolic.\n",
      "is_guest_login: symbolic.\n",
      "count: continuous.\n",
      "srv_count: continuous.\n",
      "serror_rate: continuous.\n",
      "srv_serror_rate: continuous.\n",
      "rerror_rate: continuous.\n",
      "srv_rerror_rate: continuous.\n",
      "same_srv_rate: continuous.\n",
      "diff_srv_rate: continuous.\n",
      "srv_diff_host_rate: continuous.\n",
      "dst_host_count: continuous.\n",
      "dst_host_srv_count: continuous.\n",
      "dst_host_same_srv_rate: continuous.\n",
      "dst_host_diff_srv_rate: continuous.\n",
      "dst_host_same_src_port_rate: continuous.\n",
      "dst_host_srv_diff_host_rate: continuous.\n",
      "dst_host_serror_rate: continuous.\n",
      "dst_host_srv_serror_rate: continuous.\n",
      "dst_host_rerror_rate: continuous.\n",
      "dst_host_srv_rerror_rate: continuous.\n",
      "\n"
     ]
    }
   ],
   "source": [
    "#extracting column headers\n",
    "with open(\"../input/kdd-cup-1999-data/kddcup.names\",'r') as f:\n",
    "    print(f.read())"
   ]
  },
  {
   "cell_type": "code",
   "execution_count": 5,
   "id": "09b3215d",
   "metadata": {
    "execution": {
     "iopub.execute_input": "2024-06-04T15:34:51.272882Z",
     "iopub.status.busy": "2024-06-04T15:34:51.272242Z",
     "iopub.status.idle": "2024-06-04T15:34:51.278906Z",
     "shell.execute_reply": "2024-06-04T15:34:51.278052Z"
    },
    "papermill": {
     "duration": 0.0217,
     "end_time": "2024-06-04T15:34:51.281190",
     "exception": false,
     "start_time": "2024-06-04T15:34:51.259490",
     "status": "completed"
    },
    "tags": []
   },
   "outputs": [
    {
     "name": "stdout",
     "output_type": "stream",
     "text": [
      "['duration', 'protocol_type', 'service', 'flag', 'src_bytes', 'dst_bytes', 'land', 'wrong_fragment', 'urgent', 'hot', 'num_failed_logins', 'logged_in', 'num_compromised', 'root_shell', 'su_attempted', 'num_root', 'num_file_creations', 'num_shells', 'num_access_files', 'num_outbound_cmds', 'is_host_login', 'is_guest_login', 'count', 'srv_count', 'serror_rate', 'srv_serror_rate', 'rerror_rate', 'srv_rerror_rate', 'same_srv_rate', 'diff_srv_rate', 'srv_diff_host_rate', 'dst_host_count', 'dst_host_srv_count', 'dst_host_same_srv_rate', 'dst_host_diff_srv_rate', 'dst_host_same_src_port_rate', 'dst_host_srv_diff_host_rate', 'dst_host_serror_rate', 'dst_host_srv_serror_rate', 'dst_host_rerror_rate', 'dst_host_srv_rerror_rate', 'target']\n"
     ]
    }
   ],
   "source": [
    "columns=\"\"\"duration,\n",
    "protocol_type,\n",
    "service,\n",
    "flag,\n",
    "src_bytes,\n",
    "dst_bytes,\n",
    "land,\n",
    "wrong_fragment,\n",
    "urgent,\n",
    "hot,\n",
    "num_failed_logins,\n",
    "logged_in,\n",
    "num_compromised,\n",
    "root_shell,\n",
    "su_attempted,\n",
    "num_root,\n",
    "num_file_creations,\n",
    "num_shells,\n",
    "num_access_files,\n",
    "num_outbound_cmds,\n",
    "is_host_login,\n",
    "is_guest_login,\n",
    "count,\n",
    "srv_count,\n",
    "serror_rate,\n",
    "srv_serror_rate,\n",
    "rerror_rate,\n",
    "srv_rerror_rate,\n",
    "same_srv_rate,\n",
    "diff_srv_rate,\n",
    "srv_diff_host_rate,\n",
    "dst_host_count,\n",
    "dst_host_srv_count,\n",
    "dst_host_same_srv_rate,\n",
    "dst_host_diff_srv_rate,\n",
    "dst_host_same_src_port_rate,\n",
    "dst_host_srv_diff_host_rate,\n",
    "dst_host_serror_rate,\n",
    "dst_host_srv_serror_rate,\n",
    "dst_host_rerror_rate,\n",
    "dst_host_srv_rerror_rate\"\"\"\n",
    "\n",
    "cols=[]\n",
    "for c in columns.split(','):\n",
    "    cols.append(c.strip())\n",
    "cols.append('target')\n",
    "\n",
    "print(cols)"
   ]
  },
  {
   "cell_type": "code",
   "execution_count": 6,
   "id": "0eade03e",
   "metadata": {
    "execution": {
     "iopub.execute_input": "2024-06-04T15:34:51.306130Z",
     "iopub.status.busy": "2024-06-04T15:34:51.305594Z",
     "iopub.status.idle": "2024-06-04T15:34:53.586891Z",
     "shell.execute_reply": "2024-06-04T15:34:53.585895Z"
    },
    "papermill": {
     "duration": 2.296342,
     "end_time": "2024-06-04T15:34:53.589426",
     "exception": false,
     "start_time": "2024-06-04T15:34:51.293084",
     "status": "completed"
    },
    "tags": []
   },
   "outputs": [
    {
     "data": {
      "text/html": [
       "<div>\n",
       "<style scoped>\n",
       "    .dataframe tbody tr th:only-of-type {\n",
       "        vertical-align: middle;\n",
       "    }\n",
       "\n",
       "    .dataframe tbody tr th {\n",
       "        vertical-align: top;\n",
       "    }\n",
       "\n",
       "    .dataframe thead th {\n",
       "        text-align: right;\n",
       "    }\n",
       "</style>\n",
       "<table border=\"1\" class=\"dataframe\">\n",
       "  <thead>\n",
       "    <tr style=\"text-align: right;\">\n",
       "      <th></th>\n",
       "      <th>duration</th>\n",
       "      <th>protocol_type</th>\n",
       "      <th>service</th>\n",
       "      <th>flag</th>\n",
       "      <th>src_bytes</th>\n",
       "      <th>dst_bytes</th>\n",
       "      <th>land</th>\n",
       "      <th>wrong_fragment</th>\n",
       "      <th>urgent</th>\n",
       "      <th>hot</th>\n",
       "      <th>...</th>\n",
       "      <th>dst_host_srv_count</th>\n",
       "      <th>dst_host_same_srv_rate</th>\n",
       "      <th>dst_host_diff_srv_rate</th>\n",
       "      <th>dst_host_same_src_port_rate</th>\n",
       "      <th>dst_host_srv_diff_host_rate</th>\n",
       "      <th>dst_host_serror_rate</th>\n",
       "      <th>dst_host_srv_serror_rate</th>\n",
       "      <th>dst_host_rerror_rate</th>\n",
       "      <th>dst_host_srv_rerror_rate</th>\n",
       "      <th>target</th>\n",
       "    </tr>\n",
       "  </thead>\n",
       "  <tbody>\n",
       "    <tr>\n",
       "      <th>0</th>\n",
       "      <td>0</td>\n",
       "      <td>tcp</td>\n",
       "      <td>http</td>\n",
       "      <td>SF</td>\n",
       "      <td>181</td>\n",
       "      <td>5450</td>\n",
       "      <td>0</td>\n",
       "      <td>0</td>\n",
       "      <td>0</td>\n",
       "      <td>0</td>\n",
       "      <td>...</td>\n",
       "      <td>9</td>\n",
       "      <td>1.0</td>\n",
       "      <td>0.0</td>\n",
       "      <td>0.11</td>\n",
       "      <td>0.0</td>\n",
       "      <td>0.0</td>\n",
       "      <td>0.0</td>\n",
       "      <td>0.0</td>\n",
       "      <td>0.0</td>\n",
       "      <td>normal.</td>\n",
       "    </tr>\n",
       "    <tr>\n",
       "      <th>1</th>\n",
       "      <td>0</td>\n",
       "      <td>tcp</td>\n",
       "      <td>http</td>\n",
       "      <td>SF</td>\n",
       "      <td>239</td>\n",
       "      <td>486</td>\n",
       "      <td>0</td>\n",
       "      <td>0</td>\n",
       "      <td>0</td>\n",
       "      <td>0</td>\n",
       "      <td>...</td>\n",
       "      <td>19</td>\n",
       "      <td>1.0</td>\n",
       "      <td>0.0</td>\n",
       "      <td>0.05</td>\n",
       "      <td>0.0</td>\n",
       "      <td>0.0</td>\n",
       "      <td>0.0</td>\n",
       "      <td>0.0</td>\n",
       "      <td>0.0</td>\n",
       "      <td>normal.</td>\n",
       "    </tr>\n",
       "    <tr>\n",
       "      <th>2</th>\n",
       "      <td>0</td>\n",
       "      <td>tcp</td>\n",
       "      <td>http</td>\n",
       "      <td>SF</td>\n",
       "      <td>235</td>\n",
       "      <td>1337</td>\n",
       "      <td>0</td>\n",
       "      <td>0</td>\n",
       "      <td>0</td>\n",
       "      <td>0</td>\n",
       "      <td>...</td>\n",
       "      <td>29</td>\n",
       "      <td>1.0</td>\n",
       "      <td>0.0</td>\n",
       "      <td>0.03</td>\n",
       "      <td>0.0</td>\n",
       "      <td>0.0</td>\n",
       "      <td>0.0</td>\n",
       "      <td>0.0</td>\n",
       "      <td>0.0</td>\n",
       "      <td>normal.</td>\n",
       "    </tr>\n",
       "    <tr>\n",
       "      <th>3</th>\n",
       "      <td>0</td>\n",
       "      <td>tcp</td>\n",
       "      <td>http</td>\n",
       "      <td>SF</td>\n",
       "      <td>219</td>\n",
       "      <td>1337</td>\n",
       "      <td>0</td>\n",
       "      <td>0</td>\n",
       "      <td>0</td>\n",
       "      <td>0</td>\n",
       "      <td>...</td>\n",
       "      <td>39</td>\n",
       "      <td>1.0</td>\n",
       "      <td>0.0</td>\n",
       "      <td>0.03</td>\n",
       "      <td>0.0</td>\n",
       "      <td>0.0</td>\n",
       "      <td>0.0</td>\n",
       "      <td>0.0</td>\n",
       "      <td>0.0</td>\n",
       "      <td>normal.</td>\n",
       "    </tr>\n",
       "    <tr>\n",
       "      <th>4</th>\n",
       "      <td>0</td>\n",
       "      <td>tcp</td>\n",
       "      <td>http</td>\n",
       "      <td>SF</td>\n",
       "      <td>217</td>\n",
       "      <td>2032</td>\n",
       "      <td>0</td>\n",
       "      <td>0</td>\n",
       "      <td>0</td>\n",
       "      <td>0</td>\n",
       "      <td>...</td>\n",
       "      <td>49</td>\n",
       "      <td>1.0</td>\n",
       "      <td>0.0</td>\n",
       "      <td>0.02</td>\n",
       "      <td>0.0</td>\n",
       "      <td>0.0</td>\n",
       "      <td>0.0</td>\n",
       "      <td>0.0</td>\n",
       "      <td>0.0</td>\n",
       "      <td>normal.</td>\n",
       "    </tr>\n",
       "  </tbody>\n",
       "</table>\n",
       "<p>5 rows × 42 columns</p>\n",
       "</div>"
      ],
      "text/plain": [
       "   duration protocol_type service flag  src_bytes  dst_bytes  land  \\\n",
       "0         0           tcp    http   SF        181       5450     0   \n",
       "1         0           tcp    http   SF        239        486     0   \n",
       "2         0           tcp    http   SF        235       1337     0   \n",
       "3         0           tcp    http   SF        219       1337     0   \n",
       "4         0           tcp    http   SF        217       2032     0   \n",
       "\n",
       "   wrong_fragment  urgent  hot  ...  dst_host_srv_count  \\\n",
       "0               0       0    0  ...                   9   \n",
       "1               0       0    0  ...                  19   \n",
       "2               0       0    0  ...                  29   \n",
       "3               0       0    0  ...                  39   \n",
       "4               0       0    0  ...                  49   \n",
       "\n",
       "   dst_host_same_srv_rate  dst_host_diff_srv_rate  \\\n",
       "0                     1.0                     0.0   \n",
       "1                     1.0                     0.0   \n",
       "2                     1.0                     0.0   \n",
       "3                     1.0                     0.0   \n",
       "4                     1.0                     0.0   \n",
       "\n",
       "   dst_host_same_src_port_rate  dst_host_srv_diff_host_rate  \\\n",
       "0                         0.11                          0.0   \n",
       "1                         0.05                          0.0   \n",
       "2                         0.03                          0.0   \n",
       "3                         0.03                          0.0   \n",
       "4                         0.02                          0.0   \n",
       "\n",
       "   dst_host_serror_rate  dst_host_srv_serror_rate  dst_host_rerror_rate  \\\n",
       "0                   0.0                       0.0                   0.0   \n",
       "1                   0.0                       0.0                   0.0   \n",
       "2                   0.0                       0.0                   0.0   \n",
       "3                   0.0                       0.0                   0.0   \n",
       "4                   0.0                       0.0                   0.0   \n",
       "\n",
       "   dst_host_srv_rerror_rate   target  \n",
       "0                       0.0  normal.  \n",
       "1                       0.0  normal.  \n",
       "2                       0.0  normal.  \n",
       "3                       0.0  normal.  \n",
       "4                       0.0  normal.  \n",
       "\n",
       "[5 rows x 42 columns]"
      ]
     },
     "execution_count": 6,
     "metadata": {},
     "output_type": "execute_result"
    }
   ],
   "source": [
    "path = \"../input/kdd-cup-1999-data/kddcup.data_10_percent.gz\"\n",
    "df = pd.read_csv(path,names=cols)\n",
    "df.head()"
   ]
  },
  {
   "cell_type": "markdown",
   "id": "3d288d75",
   "metadata": {
    "papermill": {
     "duration": 0.014241,
     "end_time": "2024-06-04T15:34:53.618187",
     "exception": false,
     "start_time": "2024-06-04T15:34:53.603946",
     "status": "completed"
    },
    "tags": []
   },
   "source": [
    "lets now add the target column to the dataframe"
   ]
  },
  {
   "cell_type": "code",
   "execution_count": 7,
   "id": "f8e87f86",
   "metadata": {
    "execution": {
     "iopub.execute_input": "2024-06-04T15:34:53.646613Z",
     "iopub.status.busy": "2024-06-04T15:34:53.645568Z",
     "iopub.status.idle": "2024-06-04T15:34:53.656697Z",
     "shell.execute_reply": "2024-06-04T15:34:53.655384Z"
    },
    "papermill": {
     "duration": 0.02793,
     "end_time": "2024-06-04T15:34:53.659103",
     "exception": false,
     "start_time": "2024-06-04T15:34:53.631173",
     "status": "completed"
    },
    "tags": []
   },
   "outputs": [
    {
     "name": "stdout",
     "output_type": "stream",
     "text": [
      "back dos\n",
      "buffer_overflow u2r\n",
      "ftp_write r2l\n",
      "guess_passwd r2l\n",
      "imap r2l\n",
      "ipsweep probe\n",
      "land dos\n",
      "loadmodule u2r\n",
      "multihop r2l\n",
      "neptune dos\n",
      "nmap probe\n",
      "perl u2r\n",
      "phf r2l\n",
      "pod dos\n",
      "portsweep probe\n",
      "rootkit u2r\n",
      "satan probe\n",
      "smurf dos\n",
      "spy r2l\n",
      "teardrop dos\n",
      "warezclient r2l\n",
      "warezmaster r2l\n",
      "\n",
      "\n"
     ]
    }
   ],
   "source": [
    "#extracting Network Attack Types\n",
    "with open(\"../input/kdd-cup-1999-data/training_attack_types\",'r') as f:\n",
    "    print(f.read())"
   ]
  },
  {
   "cell_type": "code",
   "execution_count": 8,
   "id": "737d144a",
   "metadata": {
    "execution": {
     "iopub.execute_input": "2024-06-04T15:34:53.687350Z",
     "iopub.status.busy": "2024-06-04T15:34:53.687004Z",
     "iopub.status.idle": "2024-06-04T15:34:53.693472Z",
     "shell.execute_reply": "2024-06-04T15:34:53.692473Z"
    },
    "papermill": {
     "duration": 0.023357,
     "end_time": "2024-06-04T15:34:53.695795",
     "exception": false,
     "start_time": "2024-06-04T15:34:53.672438",
     "status": "completed"
    },
    "tags": []
   },
   "outputs": [],
   "source": [
    "attacks_types = {\n",
    "    'normal': 'normal',\n",
    "'back': 'dos',\n",
    "'buffer_overflow': 'u2r',\n",
    "'ftp_write': 'r2l',\n",
    "'guess_passwd': 'r2l',\n",
    "'imap': 'r2l',\n",
    "'ipsweep': 'probe',\n",
    "'land': 'dos',\n",
    "'loadmodule': 'u2r',\n",
    "'multihop': 'r2l',\n",
    "'neptune': 'dos',\n",
    "'nmap': 'probe',\n",
    "'perl': 'u2r',\n",
    "'phf': 'r2l',\n",
    "'pod': 'dos',\n",
    "'portsweep': 'probe',\n",
    "'rootkit': 'u2r',\n",
    "'satan': 'probe',\n",
    "'smurf': 'dos',\n",
    "'spy': 'r2l',\n",
    "'teardrop': 'dos',\n",
    "'warezclient': 'r2l',\n",
    "'warezmaster': 'r2l',\n",
    "}"
   ]
  },
  {
   "cell_type": "code",
   "execution_count": 9,
   "id": "38c3163c",
   "metadata": {
    "execution": {
     "iopub.execute_input": "2024-06-04T15:34:53.723983Z",
     "iopub.status.busy": "2024-06-04T15:34:53.723281Z",
     "iopub.status.idle": "2024-06-04T15:34:54.015816Z",
     "shell.execute_reply": "2024-06-04T15:34:54.014761Z"
    },
    "papermill": {
     "duration": 0.309196,
     "end_time": "2024-06-04T15:34:54.018155",
     "exception": false,
     "start_time": "2024-06-04T15:34:53.708959",
     "status": "completed"
    },
    "tags": []
   },
   "outputs": [
    {
     "data": {
      "text/html": [
       "<div>\n",
       "<style scoped>\n",
       "    .dataframe tbody tr th:only-of-type {\n",
       "        vertical-align: middle;\n",
       "    }\n",
       "\n",
       "    .dataframe tbody tr th {\n",
       "        vertical-align: top;\n",
       "    }\n",
       "\n",
       "    .dataframe thead th {\n",
       "        text-align: right;\n",
       "    }\n",
       "</style>\n",
       "<table border=\"1\" class=\"dataframe\">\n",
       "  <thead>\n",
       "    <tr style=\"text-align: right;\">\n",
       "      <th></th>\n",
       "      <th>duration</th>\n",
       "      <th>protocol_type</th>\n",
       "      <th>service</th>\n",
       "      <th>flag</th>\n",
       "      <th>src_bytes</th>\n",
       "      <th>dst_bytes</th>\n",
       "      <th>land</th>\n",
       "      <th>wrong_fragment</th>\n",
       "      <th>urgent</th>\n",
       "      <th>hot</th>\n",
       "      <th>...</th>\n",
       "      <th>dst_host_same_srv_rate</th>\n",
       "      <th>dst_host_diff_srv_rate</th>\n",
       "      <th>dst_host_same_src_port_rate</th>\n",
       "      <th>dst_host_srv_diff_host_rate</th>\n",
       "      <th>dst_host_serror_rate</th>\n",
       "      <th>dst_host_srv_serror_rate</th>\n",
       "      <th>dst_host_rerror_rate</th>\n",
       "      <th>dst_host_srv_rerror_rate</th>\n",
       "      <th>target</th>\n",
       "      <th>Attack Type</th>\n",
       "    </tr>\n",
       "  </thead>\n",
       "  <tbody>\n",
       "    <tr>\n",
       "      <th>0</th>\n",
       "      <td>0</td>\n",
       "      <td>tcp</td>\n",
       "      <td>http</td>\n",
       "      <td>SF</td>\n",
       "      <td>181</td>\n",
       "      <td>5450</td>\n",
       "      <td>0</td>\n",
       "      <td>0</td>\n",
       "      <td>0</td>\n",
       "      <td>0</td>\n",
       "      <td>...</td>\n",
       "      <td>1.0</td>\n",
       "      <td>0.0</td>\n",
       "      <td>0.11</td>\n",
       "      <td>0.0</td>\n",
       "      <td>0.0</td>\n",
       "      <td>0.0</td>\n",
       "      <td>0.0</td>\n",
       "      <td>0.0</td>\n",
       "      <td>normal.</td>\n",
       "      <td>normal</td>\n",
       "    </tr>\n",
       "    <tr>\n",
       "      <th>1</th>\n",
       "      <td>0</td>\n",
       "      <td>tcp</td>\n",
       "      <td>http</td>\n",
       "      <td>SF</td>\n",
       "      <td>239</td>\n",
       "      <td>486</td>\n",
       "      <td>0</td>\n",
       "      <td>0</td>\n",
       "      <td>0</td>\n",
       "      <td>0</td>\n",
       "      <td>...</td>\n",
       "      <td>1.0</td>\n",
       "      <td>0.0</td>\n",
       "      <td>0.05</td>\n",
       "      <td>0.0</td>\n",
       "      <td>0.0</td>\n",
       "      <td>0.0</td>\n",
       "      <td>0.0</td>\n",
       "      <td>0.0</td>\n",
       "      <td>normal.</td>\n",
       "      <td>normal</td>\n",
       "    </tr>\n",
       "    <tr>\n",
       "      <th>2</th>\n",
       "      <td>0</td>\n",
       "      <td>tcp</td>\n",
       "      <td>http</td>\n",
       "      <td>SF</td>\n",
       "      <td>235</td>\n",
       "      <td>1337</td>\n",
       "      <td>0</td>\n",
       "      <td>0</td>\n",
       "      <td>0</td>\n",
       "      <td>0</td>\n",
       "      <td>...</td>\n",
       "      <td>1.0</td>\n",
       "      <td>0.0</td>\n",
       "      <td>0.03</td>\n",
       "      <td>0.0</td>\n",
       "      <td>0.0</td>\n",
       "      <td>0.0</td>\n",
       "      <td>0.0</td>\n",
       "      <td>0.0</td>\n",
       "      <td>normal.</td>\n",
       "      <td>normal</td>\n",
       "    </tr>\n",
       "    <tr>\n",
       "      <th>3</th>\n",
       "      <td>0</td>\n",
       "      <td>tcp</td>\n",
       "      <td>http</td>\n",
       "      <td>SF</td>\n",
       "      <td>219</td>\n",
       "      <td>1337</td>\n",
       "      <td>0</td>\n",
       "      <td>0</td>\n",
       "      <td>0</td>\n",
       "      <td>0</td>\n",
       "      <td>...</td>\n",
       "      <td>1.0</td>\n",
       "      <td>0.0</td>\n",
       "      <td>0.03</td>\n",
       "      <td>0.0</td>\n",
       "      <td>0.0</td>\n",
       "      <td>0.0</td>\n",
       "      <td>0.0</td>\n",
       "      <td>0.0</td>\n",
       "      <td>normal.</td>\n",
       "      <td>normal</td>\n",
       "    </tr>\n",
       "    <tr>\n",
       "      <th>4</th>\n",
       "      <td>0</td>\n",
       "      <td>tcp</td>\n",
       "      <td>http</td>\n",
       "      <td>SF</td>\n",
       "      <td>217</td>\n",
       "      <td>2032</td>\n",
       "      <td>0</td>\n",
       "      <td>0</td>\n",
       "      <td>0</td>\n",
       "      <td>0</td>\n",
       "      <td>...</td>\n",
       "      <td>1.0</td>\n",
       "      <td>0.0</td>\n",
       "      <td>0.02</td>\n",
       "      <td>0.0</td>\n",
       "      <td>0.0</td>\n",
       "      <td>0.0</td>\n",
       "      <td>0.0</td>\n",
       "      <td>0.0</td>\n",
       "      <td>normal.</td>\n",
       "      <td>normal</td>\n",
       "    </tr>\n",
       "  </tbody>\n",
       "</table>\n",
       "<p>5 rows × 43 columns</p>\n",
       "</div>"
      ],
      "text/plain": [
       "   duration protocol_type service flag  src_bytes  dst_bytes  land  \\\n",
       "0         0           tcp    http   SF        181       5450     0   \n",
       "1         0           tcp    http   SF        239        486     0   \n",
       "2         0           tcp    http   SF        235       1337     0   \n",
       "3         0           tcp    http   SF        219       1337     0   \n",
       "4         0           tcp    http   SF        217       2032     0   \n",
       "\n",
       "   wrong_fragment  urgent  hot  ...  dst_host_same_srv_rate  \\\n",
       "0               0       0    0  ...                     1.0   \n",
       "1               0       0    0  ...                     1.0   \n",
       "2               0       0    0  ...                     1.0   \n",
       "3               0       0    0  ...                     1.0   \n",
       "4               0       0    0  ...                     1.0   \n",
       "\n",
       "   dst_host_diff_srv_rate  dst_host_same_src_port_rate  \\\n",
       "0                     0.0                         0.11   \n",
       "1                     0.0                         0.05   \n",
       "2                     0.0                         0.03   \n",
       "3                     0.0                         0.03   \n",
       "4                     0.0                         0.02   \n",
       "\n",
       "   dst_host_srv_diff_host_rate  dst_host_serror_rate  \\\n",
       "0                          0.0                   0.0   \n",
       "1                          0.0                   0.0   \n",
       "2                          0.0                   0.0   \n",
       "3                          0.0                   0.0   \n",
       "4                          0.0                   0.0   \n",
       "\n",
       "   dst_host_srv_serror_rate  dst_host_rerror_rate  dst_host_srv_rerror_rate  \\\n",
       "0                       0.0                   0.0                       0.0   \n",
       "1                       0.0                   0.0                       0.0   \n",
       "2                       0.0                   0.0                       0.0   \n",
       "3                       0.0                   0.0                       0.0   \n",
       "4                       0.0                   0.0                       0.0   \n",
       "\n",
       "    target  Attack Type  \n",
       "0  normal.       normal  \n",
       "1  normal.       normal  \n",
       "2  normal.       normal  \n",
       "3  normal.       normal  \n",
       "4  normal.       normal  \n",
       "\n",
       "[5 rows x 43 columns]"
      ]
     },
     "execution_count": 9,
     "metadata": {},
     "output_type": "execute_result"
    }
   ],
   "source": [
    "df['Attack Type'] = df.target.apply(lambda r:attacks_types[r[:-1]])\n",
    "\n",
    "df.head()"
   ]
  },
  {
   "cell_type": "markdown",
   "id": "73e00e7a",
   "metadata": {
    "papermill": {
     "duration": 0.013328,
     "end_time": "2024-06-04T15:34:54.044909",
     "exception": false,
     "start_time": "2024-06-04T15:34:54.031581",
     "status": "completed"
    },
    "tags": []
   },
   "source": [
    "## Exploratory Data Analysis"
   ]
  },
  {
   "cell_type": "code",
   "execution_count": 10,
   "id": "dd8c9ba3",
   "metadata": {
    "execution": {
     "iopub.execute_input": "2024-06-04T15:34:54.073756Z",
     "iopub.status.busy": "2024-06-04T15:34:54.073018Z",
     "iopub.status.idle": "2024-06-04T15:34:54.078458Z",
     "shell.execute_reply": "2024-06-04T15:34:54.077455Z"
    },
    "papermill": {
     "duration": 0.022703,
     "end_time": "2024-06-04T15:34:54.081108",
     "exception": false,
     "start_time": "2024-06-04T15:34:54.058405",
     "status": "completed"
    },
    "tags": []
   },
   "outputs": [
    {
     "name": "stdout",
     "output_type": "stream",
     "text": [
      "The DataFrame has 494021 rows.\n",
      "The DataFrame has 43 columns.\n"
     ]
    }
   ],
   "source": [
    "print(\"The DataFrame has {} rows.\".format(df.shape[0]))\n",
    "print(\"The DataFrame has {} columns.\".format(df.shape[1]))"
   ]
  },
  {
   "cell_type": "code",
   "execution_count": 11,
   "id": "de3e5434",
   "metadata": {
    "execution": {
     "iopub.execute_input": "2024-06-04T15:34:54.109583Z",
     "iopub.status.busy": "2024-06-04T15:34:54.109233Z",
     "iopub.status.idle": "2024-06-04T15:34:54.405570Z",
     "shell.execute_reply": "2024-06-04T15:34:54.404544Z"
    },
    "papermill": {
     "duration": 0.314011,
     "end_time": "2024-06-04T15:34:54.408416",
     "exception": false,
     "start_time": "2024-06-04T15:34:54.094405",
     "status": "completed"
    },
    "tags": []
   },
   "outputs": [
    {
     "name": "stdout",
     "output_type": "stream",
     "text": [
      "<class 'pandas.core.frame.DataFrame'>\n",
      "RangeIndex: 494021 entries, 0 to 494020\n",
      "Data columns (total 43 columns):\n",
      " #   Column                       Non-Null Count   Dtype  \n",
      "---  ------                       --------------   -----  \n",
      " 0   duration                     494021 non-null  int64  \n",
      " 1   protocol_type                494021 non-null  object \n",
      " 2   service                      494021 non-null  object \n",
      " 3   flag                         494021 non-null  object \n",
      " 4   src_bytes                    494021 non-null  int64  \n",
      " 5   dst_bytes                    494021 non-null  int64  \n",
      " 6   land                         494021 non-null  int64  \n",
      " 7   wrong_fragment               494021 non-null  int64  \n",
      " 8   urgent                       494021 non-null  int64  \n",
      " 9   hot                          494021 non-null  int64  \n",
      " 10  num_failed_logins            494021 non-null  int64  \n",
      " 11  logged_in                    494021 non-null  int64  \n",
      " 12  num_compromised              494021 non-null  int64  \n",
      " 13  root_shell                   494021 non-null  int64  \n",
      " 14  su_attempted                 494021 non-null  int64  \n",
      " 15  num_root                     494021 non-null  int64  \n",
      " 16  num_file_creations           494021 non-null  int64  \n",
      " 17  num_shells                   494021 non-null  int64  \n",
      " 18  num_access_files             494021 non-null  int64  \n",
      " 19  num_outbound_cmds            494021 non-null  int64  \n",
      " 20  is_host_login                494021 non-null  int64  \n",
      " 21  is_guest_login               494021 non-null  int64  \n",
      " 22  count                        494021 non-null  int64  \n",
      " 23  srv_count                    494021 non-null  int64  \n",
      " 24  serror_rate                  494021 non-null  float64\n",
      " 25  srv_serror_rate              494021 non-null  float64\n",
      " 26  rerror_rate                  494021 non-null  float64\n",
      " 27  srv_rerror_rate              494021 non-null  float64\n",
      " 28  same_srv_rate                494021 non-null  float64\n",
      " 29  diff_srv_rate                494021 non-null  float64\n",
      " 30  srv_diff_host_rate           494021 non-null  float64\n",
      " 31  dst_host_count               494021 non-null  int64  \n",
      " 32  dst_host_srv_count           494021 non-null  int64  \n",
      " 33  dst_host_same_srv_rate       494021 non-null  float64\n",
      " 34  dst_host_diff_srv_rate       494021 non-null  float64\n",
      " 35  dst_host_same_src_port_rate  494021 non-null  float64\n",
      " 36  dst_host_srv_diff_host_rate  494021 non-null  float64\n",
      " 37  dst_host_serror_rate         494021 non-null  float64\n",
      " 38  dst_host_srv_serror_rate     494021 non-null  float64\n",
      " 39  dst_host_rerror_rate         494021 non-null  float64\n",
      " 40  dst_host_srv_rerror_rate     494021 non-null  float64\n",
      " 41  target                       494021 non-null  object \n",
      " 42  Attack Type                  494021 non-null  object \n",
      "dtypes: float64(15), int64(23), object(5)\n",
      "memory usage: 162.1+ MB\n"
     ]
    }
   ],
   "source": [
    "df.info()"
   ]
  },
  {
   "cell_type": "code",
   "execution_count": 12,
   "id": "1ab4ff62",
   "metadata": {
    "execution": {
     "iopub.execute_input": "2024-06-04T15:34:54.436496Z",
     "iopub.status.busy": "2024-06-04T15:34:54.435848Z",
     "iopub.status.idle": "2024-06-04T15:34:54.711786Z",
     "shell.execute_reply": "2024-06-04T15:34:54.710797Z"
    },
    "papermill": {
     "duration": 0.292467,
     "end_time": "2024-06-04T15:34:54.714142",
     "exception": false,
     "start_time": "2024-06-04T15:34:54.421675",
     "status": "completed"
    },
    "tags": []
   },
   "outputs": [
    {
     "data": {
      "text/plain": [
       "duration                       0\n",
       "protocol_type                  0\n",
       "service                        0\n",
       "flag                           0\n",
       "src_bytes                      0\n",
       "dst_bytes                      0\n",
       "land                           0\n",
       "wrong_fragment                 0\n",
       "urgent                         0\n",
       "hot                            0\n",
       "num_failed_logins              0\n",
       "logged_in                      0\n",
       "num_compromised                0\n",
       "root_shell                     0\n",
       "su_attempted                   0\n",
       "num_root                       0\n",
       "num_file_creations             0\n",
       "num_shells                     0\n",
       "num_access_files               0\n",
       "num_outbound_cmds              0\n",
       "is_host_login                  0\n",
       "is_guest_login                 0\n",
       "count                          0\n",
       "srv_count                      0\n",
       "serror_rate                    0\n",
       "srv_serror_rate                0\n",
       "rerror_rate                    0\n",
       "srv_rerror_rate                0\n",
       "same_srv_rate                  0\n",
       "diff_srv_rate                  0\n",
       "srv_diff_host_rate             0\n",
       "dst_host_count                 0\n",
       "dst_host_srv_count             0\n",
       "dst_host_same_srv_rate         0\n",
       "dst_host_diff_srv_rate         0\n",
       "dst_host_same_src_port_rate    0\n",
       "dst_host_srv_diff_host_rate    0\n",
       "dst_host_serror_rate           0\n",
       "dst_host_srv_serror_rate       0\n",
       "dst_host_rerror_rate           0\n",
       "dst_host_srv_rerror_rate       0\n",
       "target                         0\n",
       "Attack Type                    0\n",
       "dtype: int64"
      ]
     },
     "execution_count": 12,
     "metadata": {},
     "output_type": "execute_result"
    }
   ],
   "source": [
    "df.isnull().sum()"
   ]
  },
  {
   "cell_type": "markdown",
   "id": "2c2b0925",
   "metadata": {
    "papermill": {
     "duration": 0.013267,
     "end_time": "2024-06-04T15:34:54.741211",
     "exception": false,
     "start_time": "2024-06-04T15:34:54.727944",
     "status": "completed"
    },
    "tags": []
   },
   "source": [
    "Clean dataset, no null values present"
   ]
  },
  {
   "cell_type": "code",
   "execution_count": 13,
   "id": "63e0a595",
   "metadata": {
    "execution": {
     "iopub.execute_input": "2024-06-04T15:34:54.770680Z",
     "iopub.status.busy": "2024-06-04T15:34:54.769978Z",
     "iopub.status.idle": "2024-06-04T15:34:54.844870Z",
     "shell.execute_reply": "2024-06-04T15:34:54.843847Z"
    },
    "papermill": {
     "duration": 0.092405,
     "end_time": "2024-06-04T15:34:54.847170",
     "exception": false,
     "start_time": "2024-06-04T15:34:54.754765",
     "status": "completed"
    },
    "tags": []
   },
   "outputs": [
    {
     "data": {
      "text/plain": [
       "Attack Type\n",
       "dos       391458\n",
       "normal     97278\n",
       "probe       4107\n",
       "r2l         1126\n",
       "u2r           52\n",
       "Name: count, dtype: int64"
      ]
     },
     "execution_count": 13,
     "metadata": {},
     "output_type": "execute_result"
    }
   ],
   "source": [
    "#number of attacks of each type in the dataframe\n",
    "df['Attack Type'].value_counts()"
   ]
  },
  {
   "cell_type": "code",
   "execution_count": 14,
   "id": "77544125",
   "metadata": {
    "execution": {
     "iopub.execute_input": "2024-06-04T15:34:54.878586Z",
     "iopub.status.busy": "2024-06-04T15:34:54.877950Z",
     "iopub.status.idle": "2024-06-04T15:34:55.298113Z",
     "shell.execute_reply": "2024-06-04T15:34:55.297038Z"
    },
    "papermill": {
     "duration": 0.438428,
     "end_time": "2024-06-04T15:34:55.300601",
     "exception": false,
     "start_time": "2024-06-04T15:34:54.862173",
     "status": "completed"
    },
    "tags": []
   },
   "outputs": [
    {
     "data": {
      "text/plain": [
       "<Axes: xlabel='Attack Type'>"
      ]
     },
     "execution_count": 14,
     "metadata": {},
     "output_type": "execute_result"
    },
    {
     "data": {
      "image/png": "[encoded data removed]",
      "text/plain": [
       "<Figure size 640x480 with 1 Axes>"
      ]
     },
     "metadata": {},
     "output_type": "display_data"
    }
   ],
   "source": [
    "#Visualizing Attack Type categories\n",
    "df['Attack Type'].value_counts().plot(kind=\"bar\")"
   ]
  },
  {
   "cell_type": "code",
   "execution_count": 15,
   "id": "00092578",
   "metadata": {
    "execution": {
     "iopub.execute_input": "2024-06-04T15:34:55.331034Z",
     "iopub.status.busy": "2024-06-04T15:34:55.330678Z",
     "iopub.status.idle": "2024-06-04T15:34:55.861576Z",
     "shell.execute_reply": "2024-06-04T15:34:55.860545Z"
    },
    "papermill": {
     "duration": 0.54917,
     "end_time": "2024-06-04T15:34:55.864319",
     "exception": false,
     "start_time": "2024-06-04T15:34:55.315149",
     "status": "completed"
    },
    "tags": []
   },
   "outputs": [
    {
     "data": {
      "text/plain": [
       "<Axes: xlabel='target'>"
      ]
     },
     "execution_count": 15,
     "metadata": {},
     "output_type": "execute_result"
    },
    {
     "data": {
      "image/png": "[encoded data removed]",
      "text/plain": [
       "<Figure size 640x480 with 1 Axes>"
      ]
     },
     "metadata": {},
     "output_type": "display_data"
    }
   ],
   "source": [
    "#Visualizing Target categories\n",
    "df['target'].value_counts().plot(kind=\"bar\")"
   ]
  },
  {
   "cell_type": "code",
   "execution_count": 16,
   "id": "5c61b2a3",
   "metadata": {
    "execution": {
     "iopub.execute_input": "2024-06-04T15:34:55.895860Z",
     "iopub.status.busy": "2024-06-04T15:34:55.895473Z",
     "iopub.status.idle": "2024-06-04T15:34:55.902477Z",
     "shell.execute_reply": "2024-06-04T15:34:55.901340Z"
    },
    "papermill": {
     "duration": 0.025269,
     "end_time": "2024-06-04T15:34:55.904541",
     "exception": false,
     "start_time": "2024-06-04T15:34:55.879272",
     "status": "completed"
    },
    "tags": []
   },
   "outputs": [
    {
     "data": {
      "text/plain": [
       "Index(['duration', 'protocol_type', 'service', 'flag', 'src_bytes',\n",
       "       'dst_bytes', 'land', 'wrong_fragment', 'urgent', 'hot',\n",
       "       'num_failed_logins', 'logged_in', 'num_compromised', 'root_shell',\n",
       "       'su_attempted', 'num_root', 'num_file_creations', 'num_shells',\n",
       "       'num_access_files', 'num_outbound_cmds', 'is_host_login',\n",
       "       'is_guest_login', 'count', 'srv_count', 'serror_rate',\n",
       "       'srv_serror_rate', 'rerror_rate', 'srv_rerror_rate', 'same_srv_rate',\n",
       "       'diff_srv_rate', 'srv_diff_host_rate', 'dst_host_count',\n",
       "       'dst_host_srv_count', 'dst_host_same_srv_rate',\n",
       "       'dst_host_diff_srv_rate', 'dst_host_same_src_port_rate',\n",
       "       'dst_host_srv_diff_host_rate', 'dst_host_serror_rate',\n",
       "       'dst_host_srv_serror_rate', 'dst_host_rerror_rate',\n",
       "       'dst_host_srv_rerror_rate', 'target', 'Attack Type'],\n",
       "      dtype='object')"
      ]
     },
     "execution_count": 16,
     "metadata": {},
     "output_type": "execute_result"
    }
   ],
   "source": [
    "df.columns"
   ]
  },
  {
   "cell_type": "code",
   "execution_count": 17,
   "id": "7672f922",
   "metadata": {
    "execution": {
     "iopub.execute_input": "2024-06-04T15:34:55.936494Z",
     "iopub.status.busy": "2024-06-04T15:34:55.936155Z",
     "iopub.status.idle": "2024-06-04T15:34:55.964448Z",
     "shell.execute_reply": "2024-06-04T15:34:55.963486Z"
    },
    "papermill": {
     "duration": 0.046945,
     "end_time": "2024-06-04T15:34:55.966979",
     "exception": false,
     "start_time": "2024-06-04T15:34:55.920034",
     "status": "completed"
    },
    "tags": []
   },
   "outputs": [
    {
     "data": {
      "text/html": [
       "<div>\n",
       "<style scoped>\n",
       "    .dataframe tbody tr th:only-of-type {\n",
       "        vertical-align: middle;\n",
       "    }\n",
       "\n",
       "    .dataframe tbody tr th {\n",
       "        vertical-align: top;\n",
       "    }\n",
       "\n",
       "    .dataframe thead th {\n",
       "        text-align: right;\n",
       "    }\n",
       "</style>\n",
       "<table border=\"1\" class=\"dataframe\">\n",
       "  <thead>\n",
       "    <tr style=\"text-align: right;\">\n",
       "      <th></th>\n",
       "      <th>duration</th>\n",
       "      <th>protocol_type</th>\n",
       "      <th>service</th>\n",
       "      <th>flag</th>\n",
       "      <th>src_bytes</th>\n",
       "      <th>dst_bytes</th>\n",
       "      <th>land</th>\n",
       "      <th>wrong_fragment</th>\n",
       "      <th>urgent</th>\n",
       "      <th>hot</th>\n",
       "      <th>...</th>\n",
       "      <th>dst_host_same_srv_rate</th>\n",
       "      <th>dst_host_diff_srv_rate</th>\n",
       "      <th>dst_host_same_src_port_rate</th>\n",
       "      <th>dst_host_srv_diff_host_rate</th>\n",
       "      <th>dst_host_serror_rate</th>\n",
       "      <th>dst_host_srv_serror_rate</th>\n",
       "      <th>dst_host_rerror_rate</th>\n",
       "      <th>dst_host_srv_rerror_rate</th>\n",
       "      <th>target</th>\n",
       "      <th>Attack Type</th>\n",
       "    </tr>\n",
       "  </thead>\n",
       "  <tbody>\n",
       "    <tr>\n",
       "      <th>0</th>\n",
       "      <td>0</td>\n",
       "      <td>tcp</td>\n",
       "      <td>http</td>\n",
       "      <td>SF</td>\n",
       "      <td>181</td>\n",
       "      <td>5450</td>\n",
       "      <td>0</td>\n",
       "      <td>0</td>\n",
       "      <td>0</td>\n",
       "      <td>0</td>\n",
       "      <td>...</td>\n",
       "      <td>1.0</td>\n",
       "      <td>0.0</td>\n",
       "      <td>0.11</td>\n",
       "      <td>0.0</td>\n",
       "      <td>0.0</td>\n",
       "      <td>0.0</td>\n",
       "      <td>0.0</td>\n",
       "      <td>0.0</td>\n",
       "      <td>normal.</td>\n",
       "      <td>normal</td>\n",
       "    </tr>\n",
       "    <tr>\n",
       "      <th>1</th>\n",
       "      <td>0</td>\n",
       "      <td>tcp</td>\n",
       "      <td>http</td>\n",
       "      <td>SF</td>\n",
       "      <td>239</td>\n",
       "      <td>486</td>\n",
       "      <td>0</td>\n",
       "      <td>0</td>\n",
       "      <td>0</td>\n",
       "      <td>0</td>\n",
       "      <td>...</td>\n",
       "      <td>1.0</td>\n",
       "      <td>0.0</td>\n",
       "      <td>0.05</td>\n",
       "      <td>0.0</td>\n",
       "      <td>0.0</td>\n",
       "      <td>0.0</td>\n",
       "      <td>0.0</td>\n",
       "      <td>0.0</td>\n",
       "      <td>normal.</td>\n",
       "      <td>normal</td>\n",
       "    </tr>\n",
       "    <tr>\n",
       "      <th>2</th>\n",
       "      <td>0</td>\n",
       "      <td>tcp</td>\n",
       "      <td>http</td>\n",
       "      <td>SF</td>\n",
       "      <td>235</td>\n",
       "      <td>1337</td>\n",
       "      <td>0</td>\n",
       "      <td>0</td>\n",
       "      <td>0</td>\n",
       "      <td>0</td>\n",
       "      <td>...</td>\n",
       "      <td>1.0</td>\n",
       "      <td>0.0</td>\n",
       "      <td>0.03</td>\n",
       "      <td>0.0</td>\n",
       "      <td>0.0</td>\n",
       "      <td>0.0</td>\n",
       "      <td>0.0</td>\n",
       "      <td>0.0</td>\n",
       "      <td>normal.</td>\n",
       "      <td>normal</td>\n",
       "    </tr>\n",
       "    <tr>\n",
       "      <th>3</th>\n",
       "      <td>0</td>\n",
       "      <td>tcp</td>\n",
       "      <td>http</td>\n",
       "      <td>SF</td>\n",
       "      <td>219</td>\n",
       "      <td>1337</td>\n",
       "      <td>0</td>\n",
       "      <td>0</td>\n",
       "      <td>0</td>\n",
       "      <td>0</td>\n",
       "      <td>...</td>\n",
       "      <td>1.0</td>\n",
       "      <td>0.0</td>\n",
       "      <td>0.03</td>\n",
       "      <td>0.0</td>\n",
       "      <td>0.0</td>\n",
       "      <td>0.0</td>\n",
       "      <td>0.0</td>\n",
       "      <td>0.0</td>\n",
       "      <td>normal.</td>\n",
       "      <td>normal</td>\n",
       "    </tr>\n",
       "    <tr>\n",
       "      <th>4</th>\n",
       "      <td>0</td>\n",
       "      <td>tcp</td>\n",
       "      <td>http</td>\n",
       "      <td>SF</td>\n",
       "      <td>217</td>\n",
       "      <td>2032</td>\n",
       "      <td>0</td>\n",
       "      <td>0</td>\n",
       "      <td>0</td>\n",
       "      <td>0</td>\n",
       "      <td>...</td>\n",
       "      <td>1.0</td>\n",
       "      <td>0.0</td>\n",
       "      <td>0.02</td>\n",
       "      <td>0.0</td>\n",
       "      <td>0.0</td>\n",
       "      <td>0.0</td>\n",
       "      <td>0.0</td>\n",
       "      <td>0.0</td>\n",
       "      <td>normal.</td>\n",
       "      <td>normal</td>\n",
       "    </tr>\n",
       "  </tbody>\n",
       "</table>\n",
       "<p>5 rows × 43 columns</p>\n",
       "</div>"
      ],
      "text/plain": [
       "   duration protocol_type service flag  src_bytes  dst_bytes  land  \\\n",
       "0         0           tcp    http   SF        181       5450     0   \n",
       "1         0           tcp    http   SF        239        486     0   \n",
       "2         0           tcp    http   SF        235       1337     0   \n",
       "3         0           tcp    http   SF        219       1337     0   \n",
       "4         0           tcp    http   SF        217       2032     0   \n",
       "\n",
       "   wrong_fragment  urgent  hot  ...  dst_host_same_srv_rate  \\\n",
       "0               0       0    0  ...                     1.0   \n",
       "1               0       0    0  ...                     1.0   \n",
       "2               0       0    0  ...                     1.0   \n",
       "3               0       0    0  ...                     1.0   \n",
       "4               0       0    0  ...                     1.0   \n",
       "\n",
       "   dst_host_diff_srv_rate  dst_host_same_src_port_rate  \\\n",
       "0                     0.0                         0.11   \n",
       "1                     0.0                         0.05   \n",
       "2                     0.0                         0.03   \n",
       "3                     0.0                         0.03   \n",
       "4                     0.0                         0.02   \n",
       "\n",
       "   dst_host_srv_diff_host_rate  dst_host_serror_rate  \\\n",
       "0                          0.0                   0.0   \n",
       "1                          0.0                   0.0   \n",
       "2                          0.0                   0.0   \n",
       "3                          0.0                   0.0   \n",
       "4                          0.0                   0.0   \n",
       "\n",
       "   dst_host_srv_serror_rate  dst_host_rerror_rate  dst_host_srv_rerror_rate  \\\n",
       "0                       0.0                   0.0                       0.0   \n",
       "1                       0.0                   0.0                       0.0   \n",
       "2                       0.0                   0.0                       0.0   \n",
       "3                       0.0                   0.0                       0.0   \n",
       "4                       0.0                   0.0                       0.0   \n",
       "\n",
       "    target  Attack Type  \n",
       "0  normal.       normal  \n",
       "1  normal.       normal  \n",
       "2  normal.       normal  \n",
       "3  normal.       normal  \n",
       "4  normal.       normal  \n",
       "\n",
       "[5 rows x 43 columns]"
      ]
     },
     "execution_count": 17,
     "metadata": {},
     "output_type": "execute_result"
    }
   ],
   "source": [
    "df.head()"
   ]
  },
  {
   "cell_type": "markdown",
   "id": "9c45508a",
   "metadata": {
    "papermill": {
     "duration": 0.015298,
     "end_time": "2024-06-04T15:34:55.999081",
     "exception": false,
     "start_time": "2024-06-04T15:34:55.983783",
     "status": "completed"
    },
    "tags": []
   },
   "source": [
    "we need to convert the categorical variables into numeric data"
   ]
  },
  {
   "cell_type": "code",
   "execution_count": 18,
   "id": "533e177a",
   "metadata": {
    "execution": {
     "iopub.execute_input": "2024-06-04T15:34:56.031828Z",
     "iopub.status.busy": "2024-06-04T15:34:56.031163Z",
     "iopub.status.idle": "2024-06-04T15:34:56.093905Z",
     "shell.execute_reply": "2024-06-04T15:34:56.092785Z"
    },
    "papermill": {
     "duration": 0.081852,
     "end_time": "2024-06-04T15:34:56.096213",
     "exception": false,
     "start_time": "2024-06-04T15:34:56.014361",
     "status": "completed"
    },
    "tags": []
   },
   "outputs": [
    {
     "name": "stdout",
     "output_type": "stream",
     "text": [
      "Index(['protocol_type', 'service', 'flag', 'target', 'Attack Type'], dtype='object')\n"
     ]
    }
   ],
   "source": [
    "categorical_columns = df.select_dtypes(include=['object']).columns\n",
    "print(categorical_columns)"
   ]
  },
  {
   "cell_type": "code",
   "execution_count": 19,
   "id": "b8127ea4",
   "metadata": {
    "execution": {
     "iopub.execute_input": "2024-06-04T15:34:56.130917Z",
     "iopub.status.busy": "2024-06-04T15:34:56.130166Z",
     "iopub.status.idle": "2024-06-04T15:34:56.845147Z",
     "shell.execute_reply": "2024-06-04T15:34:56.844156Z"
    },
    "papermill": {
     "duration": 0.735325,
     "end_time": "2024-06-04T15:34:56.847983",
     "exception": false,
     "start_time": "2024-06-04T15:34:56.112658",
     "status": "completed"
    },
    "tags": []
   },
   "outputs": [
    {
     "data": {
      "text/html": [
       "<div>\n",
       "<style scoped>\n",
       "    .dataframe tbody tr th:only-of-type {\n",
       "        vertical-align: middle;\n",
       "    }\n",
       "\n",
       "    .dataframe tbody tr th {\n",
       "        vertical-align: top;\n",
       "    }\n",
       "\n",
       "    .dataframe thead th {\n",
       "        text-align: right;\n",
       "    }\n",
       "</style>\n",
       "<table border=\"1\" class=\"dataframe\">\n",
       "  <thead>\n",
       "    <tr style=\"text-align: right;\">\n",
       "      <th></th>\n",
       "      <th>protocol_type</th>\n",
       "      <th>service</th>\n",
       "      <th>flag</th>\n",
       "      <th>target</th>\n",
       "      <th>Attack Type</th>\n",
       "    </tr>\n",
       "  </thead>\n",
       "  <tbody>\n",
       "    <tr>\n",
       "      <th>count</th>\n",
       "      <td>494021</td>\n",
       "      <td>494021</td>\n",
       "      <td>494021</td>\n",
       "      <td>494021</td>\n",
       "      <td>494021</td>\n",
       "    </tr>\n",
       "    <tr>\n",
       "      <th>unique</th>\n",
       "      <td>3</td>\n",
       "      <td>66</td>\n",
       "      <td>11</td>\n",
       "      <td>23</td>\n",
       "      <td>5</td>\n",
       "    </tr>\n",
       "    <tr>\n",
       "      <th>top</th>\n",
       "      <td>icmp</td>\n",
       "      <td>ecr_i</td>\n",
       "      <td>SF</td>\n",
       "      <td>smurf.</td>\n",
       "      <td>dos</td>\n",
       "    </tr>\n",
       "    <tr>\n",
       "      <th>freq</th>\n",
       "      <td>283602</td>\n",
       "      <td>281400</td>\n",
       "      <td>378440</td>\n",
       "      <td>280790</td>\n",
       "      <td>391458</td>\n",
       "    </tr>\n",
       "  </tbody>\n",
       "</table>\n",
       "</div>"
      ],
      "text/plain": [
       "       protocol_type service    flag  target Attack Type\n",
       "count         494021  494021  494021  494021      494021\n",
       "unique             3      66      11      23           5\n",
       "top             icmp   ecr_i      SF  smurf.         dos\n",
       "freq          283602  281400  378440  280790      391458"
      ]
     },
     "execution_count": 19,
     "metadata": {},
     "output_type": "execute_result"
    }
   ],
   "source": [
    "#infor about the categorical variables\n",
    "df.describe(include='object')"
   ]
  },
  {
   "cell_type": "code",
   "execution_count": 20,
   "id": "66989334",
   "metadata": {
    "execution": {
     "iopub.execute_input": "2024-06-04T15:34:56.883732Z",
     "iopub.status.busy": "2024-06-04T15:34:56.883083Z",
     "iopub.status.idle": "2024-06-04T15:34:57.665628Z",
     "shell.execute_reply": "2024-06-04T15:34:57.663616Z"
    },
    "papermill": {
     "duration": 0.801564,
     "end_time": "2024-06-04T15:34:57.668112",
     "exception": false,
     "start_time": "2024-06-04T15:34:56.866548",
     "status": "completed"
    },
    "tags": []
   },
   "outputs": [
    {
     "name": "stdout",
     "output_type": "stream",
     "text": [
      "Column: protocol_type\n",
      "  icmp -> 0\n",
      "  tcp -> 1\n",
      "  udp -> 2\n",
      "Column: service\n",
      "  IRC -> 0\n",
      "  X11 -> 1\n",
      "  Z39_50 -> 2\n",
      "  auth -> 3\n",
      "  bgp -> 4\n",
      "  courier -> 5\n",
      "  csnet_ns -> 6\n",
      "  ctf -> 7\n",
      "  daytime -> 8\n",
      "  discard -> 9\n",
      "  domain -> 10\n",
      "  domain_u -> 11\n",
      "  echo -> 12\n",
      "  eco_i -> 13\n",
      "  ecr_i -> 14\n",
      "  efs -> 15\n",
      "  exec -> 16\n",
      "  finger -> 17\n",
      "  ftp -> 18\n",
      "  ftp_data -> 19\n",
      "  gopher -> 20\n",
      "  hostnames -> 21\n",
      "  http -> 22\n",
      "  http_443 -> 23\n",
      "  imap4 -> 24\n",
      "  iso_tsap -> 25\n",
      "  klogin -> 26\n",
      "  kshell -> 27\n",
      "  ldap -> 28\n",
      "  link -> 29\n",
      "  login -> 30\n",
      "  mtp -> 31\n",
      "  name -> 32\n",
      "  netbios_dgm -> 33\n",
      "  netbios_ns -> 34\n",
      "  netbios_ssn -> 35\n",
      "  netstat -> 36\n",
      "  nnsp -> 37\n",
      "  nntp -> 38\n",
      "  ntp_u -> 39\n",
      "  other -> 40\n",
      "  pm_dump -> 41\n",
      "  pop_2 -> 42\n",
      "  pop_3 -> 43\n",
      "  printer -> 44\n",
      "  private -> 45\n",
      "  red_i -> 46\n",
      "  remote_job -> 47\n",
      "  rje -> 48\n",
      "  shell -> 49\n",
      "  smtp -> 50\n",
      "  sql_net -> 51\n",
      "  ssh -> 52\n",
      "  sunrpc -> 53\n",
      "  supdup -> 54\n",
      "  systat -> 55\n",
      "  telnet -> 56\n",
      "  tftp_u -> 57\n",
      "  tim_i -> 58\n",
      "  time -> 59\n",
      "  urh_i -> 60\n",
      "  urp_i -> 61\n",
      "  uucp -> 62\n",
      "  uucp_path -> 63\n",
      "  vmnet -> 64\n",
      "  whois -> 65\n",
      "Column: flag\n",
      "  OTH -> 0\n",
      "  REJ -> 1\n",
      "  RSTO -> 2\n",
      "  RSTOS0 -> 3\n",
      "  RSTR -> 4\n",
      "  S0 -> 5\n",
      "  S1 -> 6\n",
      "  S2 -> 7\n",
      "  S3 -> 8\n",
      "  SF -> 9\n",
      "  SH -> 10\n",
      "Column: target\n",
      "  back. -> 0\n",
      "  buffer_overflow. -> 1\n",
      "  ftp_write. -> 2\n",
      "  guess_passwd. -> 3\n",
      "  imap. -> 4\n",
      "  ipsweep. -> 5\n",
      "  land. -> 6\n",
      "  loadmodule. -> 7\n",
      "  multihop. -> 8\n",
      "  neptune. -> 9\n",
      "  nmap. -> 10\n",
      "  normal. -> 11\n",
      "  perl. -> 12\n",
      "  phf. -> 13\n",
      "  pod. -> 14\n",
      "  portsweep. -> 15\n",
      "  rootkit. -> 16\n",
      "  satan. -> 17\n",
      "  smurf. -> 18\n",
      "  spy. -> 19\n",
      "  teardrop. -> 20\n",
      "  warezclient. -> 21\n",
      "  warezmaster. -> 22\n",
      "Column: Attack Type\n",
      "  dos -> 0\n",
      "  normal -> 1\n",
      "  probe -> 2\n",
      "  r2l -> 3\n",
      "  u2r -> 4\n"
     ]
    }
   ],
   "source": [
    "#converting categorical data into numeric, and displaying the categorical values and their corresponding numeric labels\n",
    "from sklearn.preprocessing import LabelEncoder\n",
    "\n",
    "label_mappings = {} # Dictionary to store mappings for each column\n",
    "\n",
    "label_encoder = LabelEncoder()\n",
    "for col in categorical_columns:\n",
    "    df[col] = label_encoder.fit_transform(df[col])\n",
    "    label_mappings[col] = dict(zip(label_encoder.classes_, label_encoder.transform(label_encoder.classes_)))\n",
    "\n",
    "for col, mapping in label_mappings.items():\n",
    "    print(f\"Column: {col}\")\n",
    "    for original, encoded in mapping.items():\n",
    "        print(f\"  {original} -> {encoded}\")\n"
   ]
  },
  {
   "cell_type": "code",
   "execution_count": 21,
   "id": "fe6d5aa5",
   "metadata": {
    "execution": {
     "iopub.execute_input": "2024-06-04T15:34:57.703431Z",
     "iopub.status.busy": "2024-06-04T15:34:57.703087Z",
     "iopub.status.idle": "2024-06-04T15:35:01.202915Z",
     "shell.execute_reply": "2024-06-04T15:35:01.201821Z"
    },
    "papermill": {
     "duration": 3.521308,
     "end_time": "2024-06-04T15:35:01.206467",
     "exception": false,
     "start_time": "2024-06-04T15:34:57.685159",
     "status": "completed"
    },
    "tags": []
   },
   "outputs": [
    {
     "data": {
      "image/png": "[encoded data removed]",
      "text/plain": [
       "<Figure size 1200x1000 with 2 Axes>"
      ]
     },
     "metadata": {},
     "output_type": "display_data"
    }
   ],
   "source": [
    "df = df[[col for col in df if df[col].nunique() > 1]]\n",
    "\n",
    "corr = df.corr()\n",
    "plt.figure(figsize=(12,10))\n",
    "sns.heatmap(corr)\n",
    "plt.show()"
   ]
  },
  {
   "cell_type": "markdown",
   "id": "85b9cf66",
   "metadata": {
    "papermill": {
     "duration": 0.018877,
     "end_time": "2024-06-04T15:35:01.244819",
     "exception": false,
     "start_time": "2024-06-04T15:35:01.225942",
     "status": "completed"
    },
    "tags": []
   },
   "source": [
    "this matrix displays the correlation between the various attributes of the dataframe"
   ]
  },
  {
   "cell_type": "code",
   "execution_count": 22,
   "id": "504a2610",
   "metadata": {
    "execution": {
     "iopub.execute_input": "2024-06-04T15:35:01.284903Z",
     "iopub.status.busy": "2024-06-04T15:35:01.284498Z",
     "iopub.status.idle": "2024-06-04T15:35:01.356710Z",
     "shell.execute_reply": "2024-06-04T15:35:01.355528Z"
    },
    "papermill": {
     "duration": 0.096304,
     "end_time": "2024-06-04T15:35:01.359993",
     "exception": false,
     "start_time": "2024-06-04T15:35:01.263689",
     "status": "completed"
    },
    "tags": []
   },
   "outputs": [
    {
     "name": "stdout",
     "output_type": "stream",
     "text": [
      "Dropped columns: ['serror_rate', 'dst_host_serror_rate', 'target', 'srv_rerror_rate', 'srv_serror_rate', 'rerror_rate', 'dst_host_rerror_rate', 'dst_host_same_srv_rate', 'dst_host_srv_serror_rate', 'num_compromised', 'dst_host_srv_count', 'srv_count', 'dst_host_srv_rerror_rate', 'num_root']\n"
     ]
    },
    {
     "data": {
      "text/html": [
       "<div>\n",
       "<style scoped>\n",
       "    .dataframe tbody tr th:only-of-type {\n",
       "        vertical-align: middle;\n",
       "    }\n",
       "\n",
       "    .dataframe tbody tr th {\n",
       "        vertical-align: top;\n",
       "    }\n",
       "\n",
       "    .dataframe thead th {\n",
       "        text-align: right;\n",
       "    }\n",
       "</style>\n",
       "<table border=\"1\" class=\"dataframe\">\n",
       "  <thead>\n",
       "    <tr style=\"text-align: right;\">\n",
       "      <th></th>\n",
       "      <th>duration</th>\n",
       "      <th>protocol_type</th>\n",
       "      <th>service</th>\n",
       "      <th>flag</th>\n",
       "      <th>src_bytes</th>\n",
       "      <th>dst_bytes</th>\n",
       "      <th>land</th>\n",
       "      <th>wrong_fragment</th>\n",
       "      <th>urgent</th>\n",
       "      <th>hot</th>\n",
       "      <th>...</th>\n",
       "      <th>is_guest_login</th>\n",
       "      <th>count</th>\n",
       "      <th>same_srv_rate</th>\n",
       "      <th>diff_srv_rate</th>\n",
       "      <th>srv_diff_host_rate</th>\n",
       "      <th>dst_host_count</th>\n",
       "      <th>dst_host_diff_srv_rate</th>\n",
       "      <th>dst_host_same_src_port_rate</th>\n",
       "      <th>dst_host_srv_diff_host_rate</th>\n",
       "      <th>Attack Type</th>\n",
       "    </tr>\n",
       "  </thead>\n",
       "  <tbody>\n",
       "    <tr>\n",
       "      <th>0</th>\n",
       "      <td>0</td>\n",
       "      <td>1</td>\n",
       "      <td>22</td>\n",
       "      <td>9</td>\n",
       "      <td>181</td>\n",
       "      <td>5450</td>\n",
       "      <td>0</td>\n",
       "      <td>0</td>\n",
       "      <td>0</td>\n",
       "      <td>0</td>\n",
       "      <td>...</td>\n",
       "      <td>0</td>\n",
       "      <td>8</td>\n",
       "      <td>1.0</td>\n",
       "      <td>0.0</td>\n",
       "      <td>0.0</td>\n",
       "      <td>9</td>\n",
       "      <td>0.0</td>\n",
       "      <td>0.11</td>\n",
       "      <td>0.0</td>\n",
       "      <td>1</td>\n",
       "    </tr>\n",
       "    <tr>\n",
       "      <th>1</th>\n",
       "      <td>0</td>\n",
       "      <td>1</td>\n",
       "      <td>22</td>\n",
       "      <td>9</td>\n",
       "      <td>239</td>\n",
       "      <td>486</td>\n",
       "      <td>0</td>\n",
       "      <td>0</td>\n",
       "      <td>0</td>\n",
       "      <td>0</td>\n",
       "      <td>...</td>\n",
       "      <td>0</td>\n",
       "      <td>8</td>\n",
       "      <td>1.0</td>\n",
       "      <td>0.0</td>\n",
       "      <td>0.0</td>\n",
       "      <td>19</td>\n",
       "      <td>0.0</td>\n",
       "      <td>0.05</td>\n",
       "      <td>0.0</td>\n",
       "      <td>1</td>\n",
       "    </tr>\n",
       "    <tr>\n",
       "      <th>2</th>\n",
       "      <td>0</td>\n",
       "      <td>1</td>\n",
       "      <td>22</td>\n",
       "      <td>9</td>\n",
       "      <td>235</td>\n",
       "      <td>1337</td>\n",
       "      <td>0</td>\n",
       "      <td>0</td>\n",
       "      <td>0</td>\n",
       "      <td>0</td>\n",
       "      <td>...</td>\n",
       "      <td>0</td>\n",
       "      <td>8</td>\n",
       "      <td>1.0</td>\n",
       "      <td>0.0</td>\n",
       "      <td>0.0</td>\n",
       "      <td>29</td>\n",
       "      <td>0.0</td>\n",
       "      <td>0.03</td>\n",
       "      <td>0.0</td>\n",
       "      <td>1</td>\n",
       "    </tr>\n",
       "    <tr>\n",
       "      <th>3</th>\n",
       "      <td>0</td>\n",
       "      <td>1</td>\n",
       "      <td>22</td>\n",
       "      <td>9</td>\n",
       "      <td>219</td>\n",
       "      <td>1337</td>\n",
       "      <td>0</td>\n",
       "      <td>0</td>\n",
       "      <td>0</td>\n",
       "      <td>0</td>\n",
       "      <td>...</td>\n",
       "      <td>0</td>\n",
       "      <td>6</td>\n",
       "      <td>1.0</td>\n",
       "      <td>0.0</td>\n",
       "      <td>0.0</td>\n",
       "      <td>39</td>\n",
       "      <td>0.0</td>\n",
       "      <td>0.03</td>\n",
       "      <td>0.0</td>\n",
       "      <td>1</td>\n",
       "    </tr>\n",
       "    <tr>\n",
       "      <th>4</th>\n",
       "      <td>0</td>\n",
       "      <td>1</td>\n",
       "      <td>22</td>\n",
       "      <td>9</td>\n",
       "      <td>217</td>\n",
       "      <td>2032</td>\n",
       "      <td>0</td>\n",
       "      <td>0</td>\n",
       "      <td>0</td>\n",
       "      <td>0</td>\n",
       "      <td>...</td>\n",
       "      <td>0</td>\n",
       "      <td>6</td>\n",
       "      <td>1.0</td>\n",
       "      <td>0.0</td>\n",
       "      <td>0.0</td>\n",
       "      <td>49</td>\n",
       "      <td>0.0</td>\n",
       "      <td>0.02</td>\n",
       "      <td>0.0</td>\n",
       "      <td>1</td>\n",
       "    </tr>\n",
       "  </tbody>\n",
       "</table>\n",
       "<p>5 rows × 27 columns</p>\n",
       "</div>"
      ],
      "text/plain": [
       "   duration  protocol_type  service  flag  src_bytes  dst_bytes  land  \\\n",
       "0         0              1       22     9        181       5450     0   \n",
       "1         0              1       22     9        239        486     0   \n",
       "2         0              1       22     9        235       1337     0   \n",
       "3         0              1       22     9        219       1337     0   \n",
       "4         0              1       22     9        217       2032     0   \n",
       "\n",
       "   wrong_fragment  urgent  hot  ...  is_guest_login  count  same_srv_rate  \\\n",
       "0               0       0    0  ...               0      8            1.0   \n",
       "1               0       0    0  ...               0      8            1.0   \n",
       "2               0       0    0  ...               0      8            1.0   \n",
       "3               0       0    0  ...               0      6            1.0   \n",
       "4               0       0    0  ...               0      6            1.0   \n",
       "\n",
       "   diff_srv_rate  srv_diff_host_rate  dst_host_count  dst_host_diff_srv_rate  \\\n",
       "0            0.0                 0.0               9                     0.0   \n",
       "1            0.0                 0.0              19                     0.0   \n",
       "2            0.0                 0.0              29                     0.0   \n",
       "3            0.0                 0.0              39                     0.0   \n",
       "4            0.0                 0.0              49                     0.0   \n",
       "\n",
       "   dst_host_same_src_port_rate  dst_host_srv_diff_host_rate  Attack Type  \n",
       "0                         0.11                          0.0            1  \n",
       "1                         0.05                          0.0            1  \n",
       "2                         0.03                          0.0            1  \n",
       "3                         0.03                          0.0            1  \n",
       "4                         0.02                          0.0            1  \n",
       "\n",
       "[5 rows x 27 columns]"
      ]
     },
     "execution_count": 22,
     "metadata": {},
     "output_type": "execute_result"
    }
   ],
   "source": [
    "#Dropping the columns which are higly correlated with each other\n",
    "threshold = 0.95\n",
    "\n",
    "to_drop = []\n",
    "for col in corr.columns:\n",
    "    correlated_cols = corr.index[(corr[col] > threshold) & (corr[col] < 1)].tolist() # columns with correlation above the threshold (excluding correlation with itself)\n",
    "    to_drop.extend(correlated_cols)\n",
    "\n",
    "to_drop = list(set(to_drop)) #drop duplicate column names and keep only unique ones\n",
    "\n",
    "df = df.drop(columns=to_drop)\n",
    "print(f\"Dropped columns: {to_drop}\")\n",
    "\n",
    "df.head()"
   ]
  },
  {
   "cell_type": "markdown",
   "id": "d3e62733",
   "metadata": {
    "papermill": {
     "duration": 0.018839,
     "end_time": "2024-06-04T15:35:01.444169",
     "exception": false,
     "start_time": "2024-06-04T15:35:01.425330",
     "status": "completed"
    },
    "tags": []
   },
   "source": [
    "## Model Creation"
   ]
  },
  {
   "cell_type": "markdown",
   "id": "7dec1a9b",
   "metadata": {
    "papermill": {
     "duration": 0.018835,
     "end_time": "2024-06-04T15:35:01.482038",
     "exception": false,
     "start_time": "2024-06-04T15:35:01.463203",
     "status": "completed"
    },
    "tags": []
   },
   "source": [
    "### Isolation Forest"
   ]
  },
  {
   "cell_type": "code",
   "execution_count": 23,
   "id": "b1997298",
   "metadata": {
    "execution": {
     "iopub.execute_input": "2024-06-04T15:35:01.521305Z",
     "iopub.status.busy": "2024-06-04T15:35:01.520531Z",
     "iopub.status.idle": "2024-06-04T15:35:01.953912Z",
     "shell.execute_reply": "2024-06-04T15:35:01.952990Z"
    },
    "papermill": {
     "duration": 0.45602,
     "end_time": "2024-06-04T15:35:01.956625",
     "exception": false,
     "start_time": "2024-06-04T15:35:01.500605",
     "status": "completed"
    },
    "tags": []
   },
   "outputs": [],
   "source": [
    "from sklearn.model_selection import train_test_split\n",
    "from sklearn.preprocessing import MinMaxScaler\n",
    "\n",
    "X = df.drop(columns=['Attack Type'])  # Features\n",
    "y = df['Attack Type']  # Target\n",
    "\n",
    "sc = MinMaxScaler() #without scaling, the performance of the model was very low\n",
    "X = sc.fit_transform(X)\n",
    "\n",
    "X_train, X_test, y_train, y_test = train_test_split(X, y, test_size=0.2, random_state=42)"
   ]
  },
  {
   "cell_type": "code",
   "execution_count": 24,
   "id": "1e3be204",
   "metadata": {
    "execution": {
     "iopub.execute_input": "2024-06-04T15:35:01.999858Z",
     "iopub.status.busy": "2024-06-04T15:35:01.999071Z",
     "iopub.status.idle": "2024-06-04T15:35:02.822794Z",
     "shell.execute_reply": "2024-06-04T15:35:02.821697Z"
    },
    "papermill": {
     "duration": 0.846589,
     "end_time": "2024-06-04T15:35:02.825189",
     "exception": false,
     "start_time": "2024-06-04T15:35:01.978600",
     "status": "completed"
    },
    "tags": []
   },
   "outputs": [
    {
     "data": {
      "text/html": [
       "<style>#sk-container-id-1 {color: black;background-color: white;}#sk-container-id-1 pre{padding: 0;}#sk-container-id-1 div.sk-toggleable {background-color: white;}#sk-container-id-1 label.sk-toggleable__label {cursor: pointer;display: block;width: 100%;margin-bottom: 0;padding: 0.3em;box-sizing: border-box;text-align: center;}#sk-container-id-1 label.sk-toggleable__label-arrow:before {content: \"▸\";float: left;margin-right: 0.25em;color: #696969;}#sk-container-id-1 label.sk-toggleable__label-arrow:hover:before {color: black;}#sk-container-id-1 div.sk-estimator:hover label.sk-toggleable__label-arrow:before {color: black;}#sk-container-id-1 div.sk-toggleable__content {max-height: 0;max-width: 0;overflow: hidden;text-align: left;background-color: #f0f8ff;}#sk-container-id-1 div.sk-toggleable__content pre {margin: 0.2em;color: black;border-radius: 0.25em;background-color: #f0f8ff;}#sk-container-id-1 input.sk-toggleable__control:checked~div.sk-toggleable__content {max-height: 200px;max-width: 100%;overflow: auto;}#sk-container-id-1 input.sk-toggleable__control:checked~label.sk-toggleable__label-arrow:before {content: \"▾\";}#sk-container-id-1 div.sk-estimator input.sk-toggleable__control:checked~label.sk-toggleable__label {background-color: #d4ebff;}#sk-container-id-1 div.sk-label input.sk-toggleable__control:checked~label.sk-toggleable__label {background-color: #d4ebff;}#sk-container-id-1 input.sk-hidden--visually {border: 0;clip: rect(1px 1px 1px 1px);clip: rect(1px, 1px, 1px, 1px);height: 1px;margin: -1px;overflow: hidden;padding: 0;position: absolute;width: 1px;}#sk-container-id-1 div.sk-estimator {font-family: monospace;background-color: #f0f8ff;border: 1px dotted black;border-radius: 0.25em;box-sizing: border-box;margin-bottom: 0.5em;}#sk-container-id-1 div.sk-estimator:hover {background-color: #d4ebff;}#sk-container-id-1 div.sk-parallel-item::after {content: \"\";width: 100%;border-bottom: 1px solid gray;flex-grow: 1;}#sk-container-id-1 div.sk-label:hover label.sk-toggleable__label {background-color: #d4ebff;}#sk-container-id-1 div.sk-serial::before {content: \"\";position: absolute;border-left: 1px solid gray;box-sizing: border-box;top: 0;bottom: 0;left: 50%;z-index: 0;}#sk-container-id-1 div.sk-serial {display: flex;flex-direction: column;align-items: center;background-color: white;padding-right: 0.2em;padding-left: 0.2em;position: relative;}#sk-container-id-1 div.sk-item {position: relative;z-index: 1;}#sk-container-id-1 div.sk-parallel {display: flex;align-items: stretch;justify-content: center;background-color: white;position: relative;}#sk-container-id-1 div.sk-item::before, #sk-container-id-1 div.sk-parallel-item::before {content: \"\";position: absolute;border-left: 1px solid gray;box-sizing: border-box;top: 0;bottom: 0;left: 50%;z-index: -1;}#sk-container-id-1 div.sk-parallel-item {display: flex;flex-direction: column;z-index: 1;position: relative;background-color: white;}#sk-container-id-1 div.sk-parallel-item:first-child::after {align-self: flex-end;width: 50%;}#sk-container-id-1 div.sk-parallel-item:last-child::after {align-self: flex-start;width: 50%;}#sk-container-id-1 div.sk-parallel-item:only-child::after {width: 0;}#sk-container-id-1 div.sk-dashed-wrapped {border: 1px dashed gray;margin: 0 0.4em 0.5em 0.4em;box-sizing: border-box;padding-bottom: 0.4em;background-color: white;}#sk-container-id-1 div.sk-label label {font-family: monospace;font-weight: bold;display: inline-block;line-height: 1.2em;}#sk-container-id-1 div.sk-label-container {text-align: center;}#sk-container-id-1 div.sk-container {/* jupyter's `normalize.less` sets `[hidden] { display: none; }` but bootstrap.min.css set `[hidden] { display: none !important; }` so we also need the `!important` here to be able to override the default hidden behavior on the sphinx rendered scikit-learn.org. See: https://github.com/scikit-learn/scikit-learn/issues/21755 */display: inline-block !important;position: relative;}#sk-container-id-1 div.sk-text-repr-fallback {display: none;}</style><div id=\"sk-container-id-1\" class=\"sk-top-container\"><div class=\"sk-text-repr-fallback\"><pre>IsolationForest(random_state=42)</pre><b>In a Jupyter environment, please rerun this cell to show the HTML representation or trust the notebook. <br />On GitHub, the HTML representation is unable to render, please try loading this page with nbviewer.org.</b></div><div class=\"sk-container\" hidden><div class=\"sk-item\"><div class=\"sk-estimator sk-toggleable\"><input class=\"sk-toggleable__control sk-hidden--visually\" id=\"sk-estimator-id-1\" type=\"checkbox\" checked><label for=\"sk-estimator-id-1\" class=\"sk-toggleable__label sk-toggleable__label-arrow\">IsolationForest</label><div class=\"sk-toggleable__content\"><pre>IsolationForest(random_state=42)</pre></div></div></div></div></div>"
      ],
      "text/plain": [
       "IsolationForest(random_state=42)"
      ]
     },
     "execution_count": 24,
     "metadata": {},
     "output_type": "execute_result"
    }
   ],
   "source": [
    "from sklearn.ensemble import IsolationForest\n",
    "\n",
    "# Isolation Forest model\n",
    "iso_forest = IsolationForest(random_state=42)\n",
    "iso_forest.fit(X_train)"
   ]
  },
  {
   "cell_type": "code",
   "execution_count": 25,
   "id": "1719d48c",
   "metadata": {
    "execution": {
     "iopub.execute_input": "2024-06-04T15:35:02.866510Z",
     "iopub.status.busy": "2024-06-04T15:35:02.866185Z",
     "iopub.status.idle": "2024-06-04T15:35:05.369582Z",
     "shell.execute_reply": "2024-06-04T15:35:05.368608Z"
    },
    "papermill": {
     "duration": 2.526926,
     "end_time": "2024-06-04T15:35:05.372293",
     "exception": false,
     "start_time": "2024-06-04T15:35:02.845367",
     "status": "completed"
    },
    "tags": []
   },
   "outputs": [],
   "source": [
    "# Predict anomalies (outliers) in the testing set\n",
    "y_pred = iso_forest.predict(X_test)"
   ]
  },
  {
   "cell_type": "code",
   "execution_count": 26,
   "id": "38c5a3e3",
   "metadata": {
    "execution": {
     "iopub.execute_input": "2024-06-04T15:35:05.416600Z",
     "iopub.status.busy": "2024-06-04T15:35:05.415652Z",
     "iopub.status.idle": "2024-06-04T15:35:05.453153Z",
     "shell.execute_reply": "2024-06-04T15:35:05.451885Z"
    },
    "papermill": {
     "duration": 0.060491,
     "end_time": "2024-06-04T15:35:05.455914",
     "exception": false,
     "start_time": "2024-06-04T15:35:05.395423",
     "status": "completed"
    },
    "tags": []
   },
   "outputs": [
    {
     "name": "stdout",
     "output_type": "stream",
     "text": [
      "Precision (Macro): 0.02\n",
      "F1 Score (Macro): 0.03\n"
     ]
    },
    {
     "name": "stderr",
     "output_type": "stream",
     "text": [
      "/opt/conda/lib/python3.10/site-packages/sklearn/metrics/_classification.py:1344: UndefinedMetricWarning: Precision is ill-defined and being set to 0.0 in labels with no predicted samples. Use `zero_division` parameter to control this behavior.\n",
      "  _warn_prf(average, modifier, msg_start, len(result))\n"
     ]
    }
   ],
   "source": [
    "from sklearn.metrics import precision_score, f1_score\n",
    "\n",
    "#  precision and F1 score using 'macro' average setting\n",
    "precision = precision_score(y_test, y_pred, average='macro')\n",
    "f1 = f1_score(y_test, y_pred, average='macro')\n",
    "\n",
    "print(f\"Precision (Macro): {precision:.2f}\")\n",
    "print(f\"F1 Score (Macro): {f1:.2f}\")"
   ]
  },
  {
   "cell_type": "markdown",
   "id": "50a32c83",
   "metadata": {
    "papermill": {
     "duration": 0.019098,
     "end_time": "2024-06-04T15:35:05.494743",
     "exception": false,
     "start_time": "2024-06-04T15:35:05.475645",
     "status": "completed"
    },
    "tags": []
   },
   "source": [
    "### Autoencoder"
   ]
  },
  {
   "cell_type": "code",
   "execution_count": 27,
   "id": "a97d19bd",
   "metadata": {
    "execution": {
     "iopub.execute_input": "2024-06-04T15:35:05.535251Z",
     "iopub.status.busy": "2024-06-04T15:35:05.534864Z",
     "iopub.status.idle": "2024-06-04T15:35:18.713955Z",
     "shell.execute_reply": "2024-06-04T15:35:18.712782Z"
    },
    "papermill": {
     "duration": 13.202592,
     "end_time": "2024-06-04T15:35:18.716501",
     "exception": false,
     "start_time": "2024-06-04T15:35:05.513909",
     "status": "completed"
    },
    "tags": []
   },
   "outputs": [
    {
     "name": "stderr",
     "output_type": "stream",
     "text": [
      "2024-06-04 15:35:07.399562: E external/local_xla/xla/stream_executor/cuda/cuda_dnn.cc:9261] Unable to register cuDNN factory: Attempting to register factory for plugin cuDNN when one has already been registered\n",
      "2024-06-04 15:35:07.399681: E external/local_xla/xla/stream_executor/cuda/cuda_fft.cc:607] Unable to register cuFFT factory: Attempting to register factory for plugin cuFFT when one has already been registered\n",
      "2024-06-04 15:35:07.527665: E external/local_xla/xla/stream_executor/cuda/cuda_blas.cc:1515] Unable to register cuBLAS factory: Attempting to register factory for plugin cuBLAS when one has already been registered\n"
     ]
    }
   ],
   "source": [
    "from tensorflow.keras.layers import Input, Dense\n",
    "from tensorflow.keras.models import Model\n",
    "\n",
    "# input shape\n",
    "input_shape = X_train.shape[1]\n",
    "\n",
    "# encoder architecture\n",
    "encoder_input = Input(shape=(input_shape,))\n",
    "encoded = Dense(128, activation='relu')(encoder_input)\n",
    "encoded = Dense(64, activation='relu')(encoded)\n",
    "\n",
    "# decoder architecture\n",
    "decoded = Dense(128, activation='relu')(encoded)\n",
    "decoded = Dense(input_shape, activation='sigmoid')(decoded)\n",
    "\n",
    "# autoencoder model\n",
    "autoencoder = Model(encoder_input, decoded)\n"
   ]
  },
  {
   "cell_type": "code",
   "execution_count": 28,
   "id": "6b20ff34",
   "metadata": {
    "execution": {
     "iopub.execute_input": "2024-06-04T15:35:18.758588Z",
     "iopub.status.busy": "2024-06-04T15:35:18.757969Z",
     "iopub.status.idle": "2024-06-04T15:37:17.198643Z",
     "shell.execute_reply": "2024-06-04T15:37:17.197618Z"
    },
    "papermill": {
     "duration": 118.463909,
     "end_time": "2024-06-04T15:37:17.201002",
     "exception": false,
     "start_time": "2024-06-04T15:35:18.737093",
     "status": "completed"
    },
    "tags": []
   },
   "outputs": [
    {
     "name": "stdout",
     "output_type": "stream",
     "text": [
      "Epoch 1/5\n",
      "\u001b[1m   93/12351\u001b[0m \u001b[37m━━━━━━━━━━━━━━━━━━━━\u001b[0m \u001b[1m20s\u001b[0m 2ms/step - loss: 0.1324"
     ]
    },
    {
     "name": "stderr",
     "output_type": "stream",
     "text": [
      "WARNING: All log messages before absl::InitializeLog() is called are written to STDERR\n",
      "I0000 00:00:1717515321.689991      72 device_compiler.h:186] Compiled cluster using XLA!  This line is logged at most once for the lifetime of the process.\n"
     ]
    },
    {
     "name": "stdout",
     "output_type": "stream",
     "text": [
      "\u001b[1m12351/12351\u001b[0m \u001b[32m━━━━━━━━━━━━━━━━━━━━\u001b[0m\u001b[37m\u001b[0m \u001b[1m27s\u001b[0m 2ms/step - loss: 0.0040 - val_loss: 5.6209e-05\n",
      "Epoch 2/5\n",
      "\u001b[1m12351/12351\u001b[0m \u001b[32m━━━━━━━━━━━━━━━━━━━━\u001b[0m\u001b[37m\u001b[0m \u001b[1m23s\u001b[0m 2ms/step - loss: 4.8435e-05 - val_loss: 2.8915e-05\n",
      "Epoch 3/5\n",
      "\u001b[1m12351/12351\u001b[0m \u001b[32m━━━━━━━━━━━━━━━━━━━━\u001b[0m\u001b[37m\u001b[0m \u001b[1m23s\u001b[0m 2ms/step - loss: 2.9514e-05 - val_loss: 2.3387e-05\n",
      "Epoch 4/5\n",
      "\u001b[1m12351/12351\u001b[0m \u001b[32m━━━━━━━━━━━━━━━━━━━━\u001b[0m\u001b[37m\u001b[0m \u001b[1m23s\u001b[0m 2ms/step - loss: 2.3525e-05 - val_loss: 1.8387e-05\n",
      "Epoch 5/5\n",
      "\u001b[1m12351/12351\u001b[0m \u001b[32m━━━━━━━━━━━━━━━━━━━━\u001b[0m\u001b[37m\u001b[0m \u001b[1m23s\u001b[0m 2ms/step - loss: 2.1503e-05 - val_loss: 1.3217e-05\n"
     ]
    },
    {
     "data": {
      "text/plain": [
       "<keras.src.callbacks.history.History at 0x7ca693b660b0>"
      ]
     },
     "execution_count": 28,
     "metadata": {},
     "output_type": "execute_result"
    }
   ],
   "source": [
    "autoencoder.compile(optimizer='adam', loss='mse')\n",
    "\n",
    "autoencoder.fit(X_train, X_train, epochs=5, batch_size=32, validation_data=(X_test, X_test))"
   ]
  },
  {
   "cell_type": "code",
   "execution_count": 29,
   "id": "408a910b",
   "metadata": {
    "execution": {
     "iopub.execute_input": "2024-06-04T15:37:17.592540Z",
     "iopub.status.busy": "2024-06-04T15:37:17.591760Z",
     "iopub.status.idle": "2024-06-04T15:37:21.732379Z",
     "shell.execute_reply": "2024-06-04T15:37:21.731300Z"
    },
    "papermill": {
     "duration": 4.338932,
     "end_time": "2024-06-04T15:37:21.734629",
     "exception": false,
     "start_time": "2024-06-04T15:37:17.395697",
     "status": "completed"
    },
    "tags": []
   },
   "outputs": [
    {
     "name": "stdout",
     "output_type": "stream",
     "text": [
      "\u001b[1m3088/3088\u001b[0m \u001b[32m━━━━━━━━━━━━━━━━━━━━\u001b[0m\u001b[37m\u001b[0m \u001b[1m4s\u001b[0m 1ms/step - loss: 1.1740e-05\n",
      "Reconstruction Loss: 0.0000\n"
     ]
    }
   ],
   "source": [
    "reconstruction_loss = autoencoder.evaluate(X_test, X_test)\n",
    "print(f\"Reconstruction Loss: {reconstruction_loss:.4f}\")"
   ]
  },
  {
   "cell_type": "markdown",
   "id": "20533641",
   "metadata": {
    "papermill": {
     "duration": 0.201975,
     "end_time": "2024-06-04T15:37:22.135191",
     "exception": false,
     "start_time": "2024-06-04T15:37:21.933216",
     "status": "completed"
    },
    "tags": []
   },
   "source": [
    "Let's make multiple autoencoder models with varying parameters and find out the best ones"
   ]
  },
  {
   "cell_type": "code",
   "execution_count": 30,
   "id": "96495003",
   "metadata": {
    "execution": {
     "iopub.execute_input": "2024-06-04T15:37:22.533633Z",
     "iopub.status.busy": "2024-06-04T15:37:22.532439Z",
     "iopub.status.idle": "2024-06-04T15:43:29.762613Z",
     "shell.execute_reply": "2024-06-04T15:43:29.761602Z"
    },
    "papermill": {
     "duration": 367.428735,
     "end_time": "2024-06-04T15:43:29.764900",
     "exception": false,
     "start_time": "2024-06-04T15:37:22.336165",
     "status": "completed"
    },
    "tags": []
   },
   "outputs": [
    {
     "name": "stderr",
     "output_type": "stream",
     "text": [
      "/opt/conda/lib/python3.10/site-packages/keras/src/layers/core/dense.py:87: UserWarning: Do not pass an `input_shape`/`input_dim` argument to a layer. When using Sequential models, prefer using an `Input(shape)` object as the first layer in the model instead.\n",
      "  super().__init__(activity_regularizer=activity_regularizer, **kwargs)\n"
     ]
    },
    {
     "name": "stdout",
     "output_type": "stream",
     "text": [
      "Epoch 1/5\n",
      "\u001b[1m12351/12351\u001b[0m \u001b[32m━━━━━━━━━━━━━━━━━━━━\u001b[0m\u001b[37m\u001b[0m \u001b[1m26s\u001b[0m 2ms/step - loss: 0.0052 - val_loss: 7.4756e-05\n",
      "Epoch 2/5\n",
      "\u001b[1m12351/12351\u001b[0m \u001b[32m━━━━━━━━━━━━━━━━━━━━\u001b[0m\u001b[37m\u001b[0m \u001b[1m23s\u001b[0m 2ms/step - loss: 6.8293e-05 - val_loss: 5.5148e-05\n",
      "Epoch 3/5\n",
      "\u001b[1m12351/12351\u001b[0m \u001b[32m━━━━━━━━━━━━━━━━━━━━\u001b[0m\u001b[37m\u001b[0m \u001b[1m23s\u001b[0m 2ms/step - loss: 4.3787e-05 - val_loss: 4.3221e-05\n",
      "Epoch 4/5\n",
      "\u001b[1m12351/12351\u001b[0m \u001b[32m━━━━━━━━━━━━━━━━━━━━\u001b[0m\u001b[37m\u001b[0m \u001b[1m22s\u001b[0m 2ms/step - loss: 3.6046e-05 - val_loss: 2.6612e-05\n",
      "Epoch 5/5\n",
      "\u001b[1m12351/12351\u001b[0m \u001b[32m━━━━━━━━━━━━━━━━━━━━\u001b[0m\u001b[37m\u001b[0m \u001b[1m23s\u001b[0m 2ms/step - loss: 2.7080e-05 - val_loss: 5.0669e-05\n",
      "Epoch 1/5\n",
      "\u001b[1m12351/12351\u001b[0m \u001b[32m━━━━━━━━━━━━━━━━━━━━\u001b[0m\u001b[37m\u001b[0m \u001b[1m26s\u001b[0m 2ms/step - loss: 0.0018 - val_loss: 2.2806e-04\n",
      "Epoch 2/5\n",
      "\u001b[1m12351/12351\u001b[0m \u001b[32m━━━━━━━━━━━━━━━━━━━━\u001b[0m\u001b[37m\u001b[0m \u001b[1m23s\u001b[0m 2ms/step - loss: 2.3557e-04 - val_loss: 1.5399e-04\n",
      "Epoch 3/5\n",
      "\u001b[1m12351/12351\u001b[0m \u001b[32m━━━━━━━━━━━━━━━━━━━━\u001b[0m\u001b[37m\u001b[0m \u001b[1m23s\u001b[0m 2ms/step - loss: 2.1604e-04 - val_loss: 2.4090e-04\n",
      "Epoch 4/5\n",
      "\u001b[1m12351/12351\u001b[0m \u001b[32m━━━━━━━━━━━━━━━━━━━━\u001b[0m\u001b[37m\u001b[0m \u001b[1m23s\u001b[0m 2ms/step - loss: 2.0939e-04 - val_loss: 1.4140e-04\n",
      "Epoch 5/5\n",
      "\u001b[1m12351/12351\u001b[0m \u001b[32m━━━━━━━━━━━━━━━━━━━━\u001b[0m\u001b[37m\u001b[0m \u001b[1m23s\u001b[0m 2ms/step - loss: 1.9581e-04 - val_loss: 3.1196e-04\n",
      "Epoch 1/5\n",
      "\u001b[1m12351/12351\u001b[0m \u001b[32m━━━━━━━━━━━━━━━━━━━━\u001b[0m\u001b[37m\u001b[0m \u001b[1m26s\u001b[0m 2ms/step - loss: 0.0598 - val_loss: 0.0595\n",
      "Epoch 2/5\n",
      "\u001b[1m12351/12351\u001b[0m \u001b[32m━━━━━━━━━━━━━━━━━━━━\u001b[0m\u001b[37m\u001b[0m \u001b[1m23s\u001b[0m 2ms/step - loss: 0.0599 - val_loss: 0.0595\n",
      "Epoch 3/5\n",
      "\u001b[1m12351/12351\u001b[0m \u001b[32m━━━━━━━━━━━━━━━━━━━━\u001b[0m\u001b[37m\u001b[0m \u001b[1m23s\u001b[0m 2ms/step - loss: 0.0600 - val_loss: 0.0595\n",
      "Epoch 4/5\n",
      "\u001b[1m12351/12351\u001b[0m \u001b[32m━━━━━━━━━━━━━━━━━━━━\u001b[0m\u001b[37m\u001b[0m \u001b[1m23s\u001b[0m 2ms/step - loss: 0.0599 - val_loss: 0.0595\n",
      "Epoch 5/5\n",
      "\u001b[1m12351/12351\u001b[0m \u001b[32m━━━━━━━━━━━━━━━━━━━━\u001b[0m\u001b[37m\u001b[0m \u001b[1m23s\u001b[0m 2ms/step - loss: 0.0601 - val_loss: 0.0595\n",
      "Autoencoder 1: Hidden Units=32, Learning Rate=0.0010000000474974513\n",
      "\u001b[1m3088/3088\u001b[0m \u001b[32m━━━━━━━━━━━━━━━━━━━━\u001b[0m\u001b[37m\u001b[0m \u001b[1m4s\u001b[0m 1ms/step - loss: 4.8925e-05\n",
      "Reconstruction Loss: 5.066914309281856e-05\n",
      "\n",
      "Autoencoder 2: Hidden Units=64, Learning Rate=0.009999999776482582\n",
      "\u001b[1m3088/3088\u001b[0m \u001b[32m━━━━━━━━━━━━━━━━━━━━\u001b[0m\u001b[37m\u001b[0m \u001b[1m4s\u001b[0m 1ms/step - loss: 3.0729e-04\n",
      "Reconstruction Loss: 0.0003119565371889621\n",
      "\n",
      "Autoencoder 3: Hidden Units=128, Learning Rate=0.10000000149011612\n",
      "\u001b[1m3088/3088\u001b[0m \u001b[32m━━━━━━━━━━━━━━━━━━━━\u001b[0m\u001b[37m\u001b[0m \u001b[1m4s\u001b[0m 1ms/step - loss: 0.0594\n",
      "Reconstruction Loss: 0.05950077995657921\n",
      "\n"
     ]
    }
   ],
   "source": [
    "from tensorflow.keras.models import Sequential\n",
    "from tensorflow.keras.layers import Input, Dense\n",
    "from tensorflow.keras.optimizers import Adam\n",
    "import numpy as np\n",
    "\n",
    "def create_autoencoder(hidden_units=(64, 32), learning_rate=0.001):\n",
    "    input_shape = X_train.shape[1]\n",
    "    autoencoder = Sequential()\n",
    "    autoencoder.add(Dense(hidden_units[0], activation='relu', input_shape=(input_shape,)))\n",
    "    autoencoder.add(Dense(hidden_units[1], activation='relu'))\n",
    "    autoencoder.add(Dense(hidden_units[0], activation='relu'))\n",
    "    autoencoder.add(Dense(input_shape, activation='sigmoid'))\n",
    "    autoencoder.compile(optimizer=Adam(learning_rate=learning_rate), loss='mse')\n",
    "    return autoencoder\n",
    "\n",
    "hyperparameters = [\n",
    "    {'hidden_units': (64, 32), 'learning_rate': 0.001},\n",
    "    {'hidden_units': (128, 64), 'learning_rate': 0.01},\n",
    "    {'hidden_units': (256, 128), 'learning_rate': 0.1}\n",
    "]\n",
    "\n",
    "\n",
    "trained_autoencoders = []\n",
    "for params in hyperparameters:\n",
    "    autoencoder = create_autoencoder(**params)\n",
    "    history = autoencoder.fit(X_train, X_train, epochs=5, batch_size=32, validation_data=(X_test, X_test))\n",
    "    trained_autoencoders.append((autoencoder, history))\n",
    "\n",
    "\n",
    "for idx, (autoencoder, history) in enumerate(trained_autoencoders):\n",
    "    print(f\"Autoencoder {idx+1}: Hidden Units={autoencoder.layers[1].units}, Learning Rate={autoencoder.optimizer.learning_rate.numpy()}\")\n",
    "    reconstruction_loss = autoencoder.evaluate(X_test, X_test)\n",
    "    print(f\"Reconstruction Loss: {reconstruction_loss}\")\n",
    "    print()\n"
   ]
  },
  {
   "cell_type": "code",
   "execution_count": null,
   "id": "a5213cb6",
   "metadata": {
    "papermill": {
     "duration": 0.751476,
     "end_time": "2024-06-04T15:43:31.337115",
     "exception": false,
     "start_time": "2024-06-04T15:43:30.585639",
     "status": "completed"
    },
    "tags": []
   },
   "outputs": [],
   "source": []
  }
 ],
 "metadata": {
  "kaggle": {
   "accelerator": "gpu",
   "dataSources": [
    {
     "datasetId": 90131,
     "sourceId": 208170,
     "sourceType": "datasetVersion"
    }
   ],
   "dockerImageVersionId": 30715,
   "isGpuEnabled": true,
   "isInternetEnabled": true,
   "language": "python",
   "sourceType": "notebook"
  },
  "kernelspec": {
   "display_name": "Python 3",
   "language": "python",
   "name": "python3"
  },
  "language_info": {
   "codemirror_mode": {
    "name": "ipython",
    "version": 3
   },
   "file_extension": ".py",
   "mimetype": "text/x-python",
   "name": "python",
   "nbconvert_exporter": "python",
   "pygments_lexer": "ipython3",
   "version": "3.10.13"
  },
  "papermill": {
   "default_parameters": {},
   "duration": 531.704504,
   "end_time": "2024-06-04T15:43:35.235707",
   "environment_variables": {},
   "exception": null,
   "input_path": "__notebook__.ipynb",
   "output_path": "__notebook__.ipynb",
   "parameters": {},
   "start_time": "2024-06-04T15:34:43.531203",
   "version": "2.5.0"
  }
 },
 "nbformat": 4,
 "nbformat_minor": 5
}
